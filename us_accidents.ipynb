{
  "cells": [
    {
      "cell_type": "markdown",
      "metadata": {
        "id": "vU9dGOhqohaY"
      },
      "source": [
        "# us-accidents\n",
        "\n",
        "Use the \"Run\" button to execute the code."
      ]
    },
    {
      "cell_type": "code",
      "source": [
        "jovian.set_colab_id('1n7eXYJnZs55kNnQzz-6GLXQ09z6v2RSN')"
      ],
      "metadata": {
        "id": "xg2FYxbNjQZi"
      },
      "execution_count": 52,
      "outputs": []
    },
    {
      "cell_type": "code",
      "execution_count": 5,
      "metadata": {
        "id": "uvxqK8PVohaf"
      },
      "outputs": [],
      "source": [
        "!pip install jovian --upgrade --quiet\n"
      ]
    },
    {
      "cell_type": "code",
      "source": [],
      "metadata": {
        "id": "7bRAXsn7rTtd"
      },
      "execution_count": 5,
      "outputs": []
    },
    {
      "cell_type": "code",
      "execution_count": 6,
      "metadata": {
        "id": "lA9iSVNuohah"
      },
      "outputs": [],
      "source": [
        "import jovian"
      ]
    },
    {
      "cell_type": "code",
      "source": [],
      "metadata": {
        "id": "tkMGh3RhsvEB"
      },
      "execution_count": 6,
      "outputs": []
    },
    {
      "cell_type": "code",
      "execution_count": 7,
      "metadata": {
        "colab": {
          "base_uri": "https://localhost:8080/"
        },
        "id": "N6T17bA3ohaj",
        "outputId": "d74f211e-e5f4-42b9-9a7a-d0915f58408c"
      },
      "outputs": [
        {
          "output_type": "stream",
          "name": "stdout",
          "text": [
            "[jovian] Detected Colab notebook...\u001b[0m\n"
          ]
        },
        {
          "output_type": "stream",
          "name": "stderr",
          "text": [
            "\u001b[31m[jovian] Error: jovian.commit doesn't work on Colab unless the notebook was created and executed from Jovian.\n",
            "Make sure to run the first code cell at the top after executing from Jovian.\n",
            "Alternatively, you can download this notebook and upload it manually to Jovian.\n",
            "Learn more: https://jovian.ai/docs/user-guide/run.html#run-on-colab\u001b[0m\n"
          ]
        }
      ],
      "source": [
        "# Execute this to save new versions of the notebook\n",
        "jovian.commit(project=\"us-accidents\")"
      ]
    },
    {
      "cell_type": "markdown",
      "source": [
        "#US accidents Exploratory Data Analysis\n",
        "\n",
        "- Dataset source is kaggle\n",
        "- Dataset contains information about accidents\n",
        "- Can be helpful in preventing datasets\n",
        "- dataset does not contain New York data"
      ],
      "metadata": {
        "id": "Z_X8QD4ds6SN"
      }
    },
    {
      "cell_type": "code",
      "source": [],
      "metadata": {
        "id": "Qr1rq9gPKe6t"
      },
      "execution_count": 7,
      "outputs": []
    },
    {
      "cell_type": "markdown",
      "source": [
        "##Data Download"
      ],
      "metadata": {
        "id": "KRwwFrAvzzWJ"
      }
    },
    {
      "cell_type": "code",
      "source": [
        "pip install opendatasets --upgrade --quiet"
      ],
      "metadata": {
        "id": "cs8dLKIntSzQ"
      },
      "execution_count": 8,
      "outputs": []
    },
    {
      "cell_type": "code",
      "source": [
        "import opendatasets as od\n",
        "\n",
        "download_url = 'https://www.kaggle.com/datasets/sobhanmoosavi/us-accidents'\n",
        "od.download(download_url)"
      ],
      "metadata": {
        "colab": {
          "base_uri": "https://localhost:8080/"
        },
        "id": "D8vxURmdvhnM",
        "outputId": "9ad8ffad-8775-4731-b1a7-afbf3896dc55"
      },
      "execution_count": 9,
      "outputs": [
        {
          "output_type": "stream",
          "name": "stdout",
          "text": [
            "Please provide your Kaggle credentials to download this dataset. Learn more: http://bit.ly/kaggle-creds\n",
            "Your Kaggle username: miethz\n",
            "Your Kaggle Key: ··········\n",
            "Downloading us-accidents.zip to ./us-accidents\n"
          ]
        },
        {
          "output_type": "stream",
          "name": "stderr",
          "text": [
            "100%|██████████| 269M/269M [00:01<00:00, 189MB/s]\n"
          ]
        },
        {
          "output_type": "stream",
          "name": "stdout",
          "text": [
            "\n"
          ]
        }
      ]
    },
    {
      "cell_type": "code",
      "source": [
        "data_filename = './us-accidents/US_Accidents_Dec21_updated.csv'"
      ],
      "metadata": {
        "id": "5-uB9aKwxrhs"
      },
      "execution_count": 10,
      "outputs": []
    },
    {
      "cell_type": "markdown",
      "source": [
        "## Data preparation and cleaning"
      ],
      "metadata": {
        "id": "mtsKqYEKuYfT"
      }
    },
    {
      "cell_type": "markdown",
      "source": [
        "###Load data (pandas)"
      ],
      "metadata": {
        "id": "-VlmUOcXqIKu"
      }
    },
    {
      "cell_type": "code",
      "source": [
        "import pandas as pd"
      ],
      "metadata": {
        "id": "zF_GTeVO0elW"
      },
      "execution_count": 11,
      "outputs": []
    },
    {
      "cell_type": "code",
      "source": [
        "df = pd.read_csv(data_filename)"
      ],
      "metadata": {
        "id": "Uro4c7sBrSgN"
      },
      "execution_count": 12,
      "outputs": []
    },
    {
      "cell_type": "code",
      "source": [
        " df\n"
      ],
      "metadata": {
        "colab": {
          "base_uri": "https://localhost:8080/",
          "height": 939
        },
        "id": "AX84bBDQ0tFX",
        "outputId": "80c9c62f-7861-4e8b-f8f4-ed4f20ed0286"
      },
      "execution_count": 13,
      "outputs": [
        {
          "output_type": "execute_result",
          "data": {
            "text/plain": [
              "                ID  Severity           Start_Time             End_Time  \\\n",
              "0              A-1         3  2016-02-08 00:37:08  2016-02-08 06:37:08   \n",
              "1              A-2         2  2016-02-08 05:56:20  2016-02-08 11:56:20   \n",
              "2              A-3         2  2016-02-08 06:15:39  2016-02-08 12:15:39   \n",
              "3              A-4         2  2016-02-08 06:51:45  2016-02-08 12:51:45   \n",
              "4              A-5         3  2016-02-08 07:53:43  2016-02-08 13:53:43   \n",
              "...            ...       ...                  ...                  ...   \n",
              "2845337  A-2845338         2  2019-08-23 18:03:25  2019-08-23 18:32:01   \n",
              "2845338  A-2845339         2  2019-08-23 19:11:30  2019-08-23 19:38:23   \n",
              "2845339  A-2845340         2  2019-08-23 19:00:21  2019-08-23 19:28:49   \n",
              "2845340  A-2845341         2  2019-08-23 19:00:21  2019-08-23 19:29:42   \n",
              "2845341  A-2845342         2  2019-08-23 18:52:06  2019-08-23 19:21:31   \n",
              "\n",
              "         Start_Lat   Start_Lng    End_Lat     End_Lng  Distance(mi)  \\\n",
              "0        40.108910  -83.092860  40.112060  -83.031870         3.230   \n",
              "1        39.865420  -84.062800  39.865010  -84.048730         0.747   \n",
              "2        39.102660  -84.524680  39.102090  -84.523960         0.055   \n",
              "3        41.062130  -81.537840  41.062170  -81.535470         0.123   \n",
              "4        39.172393  -84.492792  39.170476  -84.501798         0.500   \n",
              "...            ...         ...        ...         ...           ...   \n",
              "2845337  34.002480 -117.379360  33.998880 -117.370940         0.543   \n",
              "2845338  32.766960 -117.148060  32.765550 -117.153630         0.338   \n",
              "2845339  33.775450 -117.847790  33.777400 -117.857270         0.561   \n",
              "2845340  33.992460 -118.403020  33.983110 -118.395650         0.772   \n",
              "2845341  34.133930 -117.230920  34.137360 -117.239340         0.537   \n",
              "\n",
              "                                               Description  ...  Roundabout  \\\n",
              "0        Between Sawmill Rd/Exit 20 and OH-315/Olentang...  ...       False   \n",
              "1                       At OH-4/OH-235/Exit 41 - Accident.  ...       False   \n",
              "2                         At I-71/US-50/Exit 1 - Accident.  ...       False   \n",
              "3                          At Dart Ave/Exit 21 - Accident.  ...       False   \n",
              "4                       At Mitchell Ave/Exit 6 - Accident.  ...       False   \n",
              "...                                                    ...  ...         ...   \n",
              "2845337                           At Market St - Accident.  ...       False   \n",
              "2845338    At Camino Del Rio/Mission Center Rd - Accident.  ...       False   \n",
              "2845339  At Glassell St/Grand Ave - Accident. in the ri...  ...       False   \n",
              "2845340     At CA-90/Marina Fwy/Jefferson Blvd - Accident.  ...       False   \n",
              "2845341              At Highland Ave/Arden Ave - Accident.  ...       False   \n",
              "\n",
              "        Station   Stop Traffic_Calming Traffic_Signal Turning_Loop  \\\n",
              "0         False  False           False          False        False   \n",
              "1         False  False           False          False        False   \n",
              "2         False  False           False          False        False   \n",
              "3         False  False           False          False        False   \n",
              "4         False  False           False          False        False   \n",
              "...         ...    ...             ...            ...          ...   \n",
              "2845337   False  False           False          False        False   \n",
              "2845338   False  False           False          False        False   \n",
              "2845339   False  False           False          False        False   \n",
              "2845340   False  False           False          False        False   \n",
              "2845341   False  False           False          False        False   \n",
              "\n",
              "        Sunrise_Sunset Civil_Twilight Nautical_Twilight Astronomical_Twilight  \n",
              "0                Night          Night             Night                 Night  \n",
              "1                Night          Night             Night                 Night  \n",
              "2                Night          Night             Night                   Day  \n",
              "3                Night          Night               Day                   Day  \n",
              "4                  Day            Day               Day                   Day  \n",
              "...                ...            ...               ...                   ...  \n",
              "2845337            Day            Day               Day                   Day  \n",
              "2845338            Day            Day               Day                   Day  \n",
              "2845339            Day            Day               Day                   Day  \n",
              "2845340            Day            Day               Day                   Day  \n",
              "2845341            Day            Day               Day                   Day  \n",
              "\n",
              "[2845342 rows x 47 columns]"
            ],
            "text/html": [
              "\n",
              "  <div id=\"df-a47158bf-83eb-42c6-831d-8a0f1a1e5e03\">\n",
              "    <div class=\"colab-df-container\">\n",
              "      <div>\n",
              "<style scoped>\n",
              "    .dataframe tbody tr th:only-of-type {\n",
              "        vertical-align: middle;\n",
              "    }\n",
              "\n",
              "    .dataframe tbody tr th {\n",
              "        vertical-align: top;\n",
              "    }\n",
              "\n",
              "    .dataframe thead th {\n",
              "        text-align: right;\n",
              "    }\n",
              "</style>\n",
              "<table border=\"1\" class=\"dataframe\">\n",
              "  <thead>\n",
              "    <tr style=\"text-align: right;\">\n",
              "      <th></th>\n",
              "      <th>ID</th>\n",
              "      <th>Severity</th>\n",
              "      <th>Start_Time</th>\n",
              "      <th>End_Time</th>\n",
              "      <th>Start_Lat</th>\n",
              "      <th>Start_Lng</th>\n",
              "      <th>End_Lat</th>\n",
              "      <th>End_Lng</th>\n",
              "      <th>Distance(mi)</th>\n",
              "      <th>Description</th>\n",
              "      <th>...</th>\n",
              "      <th>Roundabout</th>\n",
              "      <th>Station</th>\n",
              "      <th>Stop</th>\n",
              "      <th>Traffic_Calming</th>\n",
              "      <th>Traffic_Signal</th>\n",
              "      <th>Turning_Loop</th>\n",
              "      <th>Sunrise_Sunset</th>\n",
              "      <th>Civil_Twilight</th>\n",
              "      <th>Nautical_Twilight</th>\n",
              "      <th>Astronomical_Twilight</th>\n",
              "    </tr>\n",
              "  </thead>\n",
              "  <tbody>\n",
              "    <tr>\n",
              "      <th>0</th>\n",
              "      <td>A-1</td>\n",
              "      <td>3</td>\n",
              "      <td>2016-02-08 00:37:08</td>\n",
              "      <td>2016-02-08 06:37:08</td>\n",
              "      <td>40.108910</td>\n",
              "      <td>-83.092860</td>\n",
              "      <td>40.112060</td>\n",
              "      <td>-83.031870</td>\n",
              "      <td>3.230</td>\n",
              "      <td>Between Sawmill Rd/Exit 20 and OH-315/Olentang...</td>\n",
              "      <td>...</td>\n",
              "      <td>False</td>\n",
              "      <td>False</td>\n",
              "      <td>False</td>\n",
              "      <td>False</td>\n",
              "      <td>False</td>\n",
              "      <td>False</td>\n",
              "      <td>Night</td>\n",
              "      <td>Night</td>\n",
              "      <td>Night</td>\n",
              "      <td>Night</td>\n",
              "    </tr>\n",
              "    <tr>\n",
              "      <th>1</th>\n",
              "      <td>A-2</td>\n",
              "      <td>2</td>\n",
              "      <td>2016-02-08 05:56:20</td>\n",
              "      <td>2016-02-08 11:56:20</td>\n",
              "      <td>39.865420</td>\n",
              "      <td>-84.062800</td>\n",
              "      <td>39.865010</td>\n",
              "      <td>-84.048730</td>\n",
              "      <td>0.747</td>\n",
              "      <td>At OH-4/OH-235/Exit 41 - Accident.</td>\n",
              "      <td>...</td>\n",
              "      <td>False</td>\n",
              "      <td>False</td>\n",
              "      <td>False</td>\n",
              "      <td>False</td>\n",
              "      <td>False</td>\n",
              "      <td>False</td>\n",
              "      <td>Night</td>\n",
              "      <td>Night</td>\n",
              "      <td>Night</td>\n",
              "      <td>Night</td>\n",
              "    </tr>\n",
              "    <tr>\n",
              "      <th>2</th>\n",
              "      <td>A-3</td>\n",
              "      <td>2</td>\n",
              "      <td>2016-02-08 06:15:39</td>\n",
              "      <td>2016-02-08 12:15:39</td>\n",
              "      <td>39.102660</td>\n",
              "      <td>-84.524680</td>\n",
              "      <td>39.102090</td>\n",
              "      <td>-84.523960</td>\n",
              "      <td>0.055</td>\n",
              "      <td>At I-71/US-50/Exit 1 - Accident.</td>\n",
              "      <td>...</td>\n",
              "      <td>False</td>\n",
              "      <td>False</td>\n",
              "      <td>False</td>\n",
              "      <td>False</td>\n",
              "      <td>False</td>\n",
              "      <td>False</td>\n",
              "      <td>Night</td>\n",
              "      <td>Night</td>\n",
              "      <td>Night</td>\n",
              "      <td>Day</td>\n",
              "    </tr>\n",
              "    <tr>\n",
              "      <th>3</th>\n",
              "      <td>A-4</td>\n",
              "      <td>2</td>\n",
              "      <td>2016-02-08 06:51:45</td>\n",
              "      <td>2016-02-08 12:51:45</td>\n",
              "      <td>41.062130</td>\n",
              "      <td>-81.537840</td>\n",
              "      <td>41.062170</td>\n",
              "      <td>-81.535470</td>\n",
              "      <td>0.123</td>\n",
              "      <td>At Dart Ave/Exit 21 - Accident.</td>\n",
              "      <td>...</td>\n",
              "      <td>False</td>\n",
              "      <td>False</td>\n",
              "      <td>False</td>\n",
              "      <td>False</td>\n",
              "      <td>False</td>\n",
              "      <td>False</td>\n",
              "      <td>Night</td>\n",
              "      <td>Night</td>\n",
              "      <td>Day</td>\n",
              "      <td>Day</td>\n",
              "    </tr>\n",
              "    <tr>\n",
              "      <th>4</th>\n",
              "      <td>A-5</td>\n",
              "      <td>3</td>\n",
              "      <td>2016-02-08 07:53:43</td>\n",
              "      <td>2016-02-08 13:53:43</td>\n",
              "      <td>39.172393</td>\n",
              "      <td>-84.492792</td>\n",
              "      <td>39.170476</td>\n",
              "      <td>-84.501798</td>\n",
              "      <td>0.500</td>\n",
              "      <td>At Mitchell Ave/Exit 6 - Accident.</td>\n",
              "      <td>...</td>\n",
              "      <td>False</td>\n",
              "      <td>False</td>\n",
              "      <td>False</td>\n",
              "      <td>False</td>\n",
              "      <td>False</td>\n",
              "      <td>False</td>\n",
              "      <td>Day</td>\n",
              "      <td>Day</td>\n",
              "      <td>Day</td>\n",
              "      <td>Day</td>\n",
              "    </tr>\n",
              "    <tr>\n",
              "      <th>...</th>\n",
              "      <td>...</td>\n",
              "      <td>...</td>\n",
              "      <td>...</td>\n",
              "      <td>...</td>\n",
              "      <td>...</td>\n",
              "      <td>...</td>\n",
              "      <td>...</td>\n",
              "      <td>...</td>\n",
              "      <td>...</td>\n",
              "      <td>...</td>\n",
              "      <td>...</td>\n",
              "      <td>...</td>\n",
              "      <td>...</td>\n",
              "      <td>...</td>\n",
              "      <td>...</td>\n",
              "      <td>...</td>\n",
              "      <td>...</td>\n",
              "      <td>...</td>\n",
              "      <td>...</td>\n",
              "      <td>...</td>\n",
              "      <td>...</td>\n",
              "    </tr>\n",
              "    <tr>\n",
              "      <th>2845337</th>\n",
              "      <td>A-2845338</td>\n",
              "      <td>2</td>\n",
              "      <td>2019-08-23 18:03:25</td>\n",
              "      <td>2019-08-23 18:32:01</td>\n",
              "      <td>34.002480</td>\n",
              "      <td>-117.379360</td>\n",
              "      <td>33.998880</td>\n",
              "      <td>-117.370940</td>\n",
              "      <td>0.543</td>\n",
              "      <td>At Market St - Accident.</td>\n",
              "      <td>...</td>\n",
              "      <td>False</td>\n",
              "      <td>False</td>\n",
              "      <td>False</td>\n",
              "      <td>False</td>\n",
              "      <td>False</td>\n",
              "      <td>False</td>\n",
              "      <td>Day</td>\n",
              "      <td>Day</td>\n",
              "      <td>Day</td>\n",
              "      <td>Day</td>\n",
              "    </tr>\n",
              "    <tr>\n",
              "      <th>2845338</th>\n",
              "      <td>A-2845339</td>\n",
              "      <td>2</td>\n",
              "      <td>2019-08-23 19:11:30</td>\n",
              "      <td>2019-08-23 19:38:23</td>\n",
              "      <td>32.766960</td>\n",
              "      <td>-117.148060</td>\n",
              "      <td>32.765550</td>\n",
              "      <td>-117.153630</td>\n",
              "      <td>0.338</td>\n",
              "      <td>At Camino Del Rio/Mission Center Rd - Accident.</td>\n",
              "      <td>...</td>\n",
              "      <td>False</td>\n",
              "      <td>False</td>\n",
              "      <td>False</td>\n",
              "      <td>False</td>\n",
              "      <td>False</td>\n",
              "      <td>False</td>\n",
              "      <td>Day</td>\n",
              "      <td>Day</td>\n",
              "      <td>Day</td>\n",
              "      <td>Day</td>\n",
              "    </tr>\n",
              "    <tr>\n",
              "      <th>2845339</th>\n",
              "      <td>A-2845340</td>\n",
              "      <td>2</td>\n",
              "      <td>2019-08-23 19:00:21</td>\n",
              "      <td>2019-08-23 19:28:49</td>\n",
              "      <td>33.775450</td>\n",
              "      <td>-117.847790</td>\n",
              "      <td>33.777400</td>\n",
              "      <td>-117.857270</td>\n",
              "      <td>0.561</td>\n",
              "      <td>At Glassell St/Grand Ave - Accident. in the ri...</td>\n",
              "      <td>...</td>\n",
              "      <td>False</td>\n",
              "      <td>False</td>\n",
              "      <td>False</td>\n",
              "      <td>False</td>\n",
              "      <td>False</td>\n",
              "      <td>False</td>\n",
              "      <td>Day</td>\n",
              "      <td>Day</td>\n",
              "      <td>Day</td>\n",
              "      <td>Day</td>\n",
              "    </tr>\n",
              "    <tr>\n",
              "      <th>2845340</th>\n",
              "      <td>A-2845341</td>\n",
              "      <td>2</td>\n",
              "      <td>2019-08-23 19:00:21</td>\n",
              "      <td>2019-08-23 19:29:42</td>\n",
              "      <td>33.992460</td>\n",
              "      <td>-118.403020</td>\n",
              "      <td>33.983110</td>\n",
              "      <td>-118.395650</td>\n",
              "      <td>0.772</td>\n",
              "      <td>At CA-90/Marina Fwy/Jefferson Blvd - Accident.</td>\n",
              "      <td>...</td>\n",
              "      <td>False</td>\n",
              "      <td>False</td>\n",
              "      <td>False</td>\n",
              "      <td>False</td>\n",
              "      <td>False</td>\n",
              "      <td>False</td>\n",
              "      <td>Day</td>\n",
              "      <td>Day</td>\n",
              "      <td>Day</td>\n",
              "      <td>Day</td>\n",
              "    </tr>\n",
              "    <tr>\n",
              "      <th>2845341</th>\n",
              "      <td>A-2845342</td>\n",
              "      <td>2</td>\n",
              "      <td>2019-08-23 18:52:06</td>\n",
              "      <td>2019-08-23 19:21:31</td>\n",
              "      <td>34.133930</td>\n",
              "      <td>-117.230920</td>\n",
              "      <td>34.137360</td>\n",
              "      <td>-117.239340</td>\n",
              "      <td>0.537</td>\n",
              "      <td>At Highland Ave/Arden Ave - Accident.</td>\n",
              "      <td>...</td>\n",
              "      <td>False</td>\n",
              "      <td>False</td>\n",
              "      <td>False</td>\n",
              "      <td>False</td>\n",
              "      <td>False</td>\n",
              "      <td>False</td>\n",
              "      <td>Day</td>\n",
              "      <td>Day</td>\n",
              "      <td>Day</td>\n",
              "      <td>Day</td>\n",
              "    </tr>\n",
              "  </tbody>\n",
              "</table>\n",
              "<p>2845342 rows × 47 columns</p>\n",
              "</div>\n",
              "      <button class=\"colab-df-convert\" onclick=\"convertToInteractive('df-a47158bf-83eb-42c6-831d-8a0f1a1e5e03')\"\n",
              "              title=\"Convert this dataframe to an interactive table.\"\n",
              "              style=\"display:none;\">\n",
              "        \n",
              "  <svg xmlns=\"http://www.w3.org/2000/svg\" height=\"24px\"viewBox=\"0 0 24 24\"\n",
              "       width=\"24px\">\n",
              "    <path d=\"M0 0h24v24H0V0z\" fill=\"none\"/>\n",
              "    <path d=\"M18.56 5.44l.94 2.06.94-2.06 2.06-.94-2.06-.94-.94-2.06-.94 2.06-2.06.94zm-11 1L8.5 8.5l.94-2.06 2.06-.94-2.06-.94L8.5 2.5l-.94 2.06-2.06.94zm10 10l.94 2.06.94-2.06 2.06-.94-2.06-.94-.94-2.06-.94 2.06-2.06.94z\"/><path d=\"M17.41 7.96l-1.37-1.37c-.4-.4-.92-.59-1.43-.59-.52 0-1.04.2-1.43.59L10.3 9.45l-7.72 7.72c-.78.78-.78 2.05 0 2.83L4 21.41c.39.39.9.59 1.41.59.51 0 1.02-.2 1.41-.59l7.78-7.78 2.81-2.81c.8-.78.8-2.07 0-2.86zM5.41 20L4 18.59l7.72-7.72 1.47 1.35L5.41 20z\"/>\n",
              "  </svg>\n",
              "      </button>\n",
              "      \n",
              "  <style>\n",
              "    .colab-df-container {\n",
              "      display:flex;\n",
              "      flex-wrap:wrap;\n",
              "      gap: 12px;\n",
              "    }\n",
              "\n",
              "    .colab-df-convert {\n",
              "      background-color: #E8F0FE;\n",
              "      border: none;\n",
              "      border-radius: 50%;\n",
              "      cursor: pointer;\n",
              "      display: none;\n",
              "      fill: #1967D2;\n",
              "      height: 32px;\n",
              "      padding: 0 0 0 0;\n",
              "      width: 32px;\n",
              "    }\n",
              "\n",
              "    .colab-df-convert:hover {\n",
              "      background-color: #E2EBFA;\n",
              "      box-shadow: 0px 1px 2px rgba(60, 64, 67, 0.3), 0px 1px 3px 1px rgba(60, 64, 67, 0.15);\n",
              "      fill: #174EA6;\n",
              "    }\n",
              "\n",
              "    [theme=dark] .colab-df-convert {\n",
              "      background-color: #3B4455;\n",
              "      fill: #D2E3FC;\n",
              "    }\n",
              "\n",
              "    [theme=dark] .colab-df-convert:hover {\n",
              "      background-color: #434B5C;\n",
              "      box-shadow: 0px 1px 3px 1px rgba(0, 0, 0, 0.15);\n",
              "      filter: drop-shadow(0px 1px 2px rgba(0, 0, 0, 0.3));\n",
              "      fill: #FFFFFF;\n",
              "    }\n",
              "  </style>\n",
              "\n",
              "      <script>\n",
              "        const buttonEl =\n",
              "          document.querySelector('#df-a47158bf-83eb-42c6-831d-8a0f1a1e5e03 button.colab-df-convert');\n",
              "        buttonEl.style.display =\n",
              "          google.colab.kernel.accessAllowed ? 'block' : 'none';\n",
              "\n",
              "        async function convertToInteractive(key) {\n",
              "          const element = document.querySelector('#df-a47158bf-83eb-42c6-831d-8a0f1a1e5e03');\n",
              "          const dataTable =\n",
              "            await google.colab.kernel.invokeFunction('convertToInteractive',\n",
              "                                                     [key], {});\n",
              "          if (!dataTable) return;\n",
              "\n",
              "          const docLinkHtml = 'Like what you see? Visit the ' +\n",
              "            '<a target=\"_blank\" href=https://colab.research.google.com/notebooks/data_table.ipynb>data table notebook</a>'\n",
              "            + ' to learn more about interactive tables.';\n",
              "          element.innerHTML = '';\n",
              "          dataTable['output_type'] = 'display_data';\n",
              "          await google.colab.output.renderOutput(dataTable, element);\n",
              "          const docLink = document.createElement('div');\n",
              "          docLink.innerHTML = docLinkHtml;\n",
              "          element.appendChild(docLink);\n",
              "        }\n",
              "      </script>\n",
              "    </div>\n",
              "  </div>\n",
              "  "
            ]
          },
          "metadata": {},
          "execution_count": 13
        }
      ]
    },
    {
      "cell_type": "markdown",
      "source": [
        "###Analyse information about columns and the data."
      ],
      "metadata": {
        "id": "A8fEkg3nqS0G"
      }
    },
    {
      "cell_type": "code",
      "source": [
        "df.info()"
      ],
      "metadata": {
        "colab": {
          "base_uri": "https://localhost:8080/"
        },
        "id": "aYhtQrhz1GDW",
        "outputId": "e8e78ec5-343d-46e6-f680-8b4bdc537b56"
      },
      "execution_count": 14,
      "outputs": [
        {
          "output_type": "stream",
          "name": "stdout",
          "text": [
            "<class 'pandas.core.frame.DataFrame'>\n",
            "RangeIndex: 2845342 entries, 0 to 2845341\n",
            "Data columns (total 47 columns):\n",
            " #   Column                 Dtype  \n",
            "---  ------                 -----  \n",
            " 0   ID                     object \n",
            " 1   Severity               int64  \n",
            " 2   Start_Time             object \n",
            " 3   End_Time               object \n",
            " 4   Start_Lat              float64\n",
            " 5   Start_Lng              float64\n",
            " 6   End_Lat                float64\n",
            " 7   End_Lng                float64\n",
            " 8   Distance(mi)           float64\n",
            " 9   Description            object \n",
            " 10  Number                 float64\n",
            " 11  Street                 object \n",
            " 12  Side                   object \n",
            " 13  City                   object \n",
            " 14  County                 object \n",
            " 15  State                  object \n",
            " 16  Zipcode                object \n",
            " 17  Country                object \n",
            " 18  Timezone               object \n",
            " 19  Airport_Code           object \n",
            " 20  Weather_Timestamp      object \n",
            " 21  Temperature(F)         float64\n",
            " 22  Wind_Chill(F)          float64\n",
            " 23  Humidity(%)            float64\n",
            " 24  Pressure(in)           float64\n",
            " 25  Visibility(mi)         float64\n",
            " 26  Wind_Direction         object \n",
            " 27  Wind_Speed(mph)        float64\n",
            " 28  Precipitation(in)      float64\n",
            " 29  Weather_Condition      object \n",
            " 30  Amenity                bool   \n",
            " 31  Bump                   bool   \n",
            " 32  Crossing               bool   \n",
            " 33  Give_Way               bool   \n",
            " 34  Junction               bool   \n",
            " 35  No_Exit                bool   \n",
            " 36  Railway                bool   \n",
            " 37  Roundabout             bool   \n",
            " 38  Station                bool   \n",
            " 39  Stop                   bool   \n",
            " 40  Traffic_Calming        bool   \n",
            " 41  Traffic_Signal         bool   \n",
            " 42  Turning_Loop           bool   \n",
            " 43  Sunrise_Sunset         object \n",
            " 44  Civil_Twilight         object \n",
            " 45  Nautical_Twilight      object \n",
            " 46  Astronomical_Twilight  object \n",
            "dtypes: bool(13), float64(13), int64(1), object(20)\n",
            "memory usage: 773.4+ MB\n"
          ]
        }
      ]
    },
    {
      "cell_type": "code",
      "source": [
        "df.describe()"
      ],
      "metadata": {
        "colab": {
          "base_uri": "https://localhost:8080/",
          "height": 364
        },
        "id": "ucH0OC_61OrB",
        "outputId": "2866100d-aefe-462d-b50d-16c57228dfc6"
      },
      "execution_count": 15,
      "outputs": [
        {
          "output_type": "execute_result",
          "data": {
            "text/plain": [
              "           Severity     Start_Lat     Start_Lng       End_Lat       End_Lng  \\\n",
              "count  2.845342e+06  2.845342e+06  2.845342e+06  2.845342e+06  2.845342e+06   \n",
              "mean   2.137572e+00  3.624520e+01 -9.711463e+01  3.624532e+01 -9.711439e+01   \n",
              "std    4.787216e-01  5.363797e+00  1.831782e+01  5.363873e+00  1.831763e+01   \n",
              "min    1.000000e+00  2.456603e+01 -1.245481e+02  2.456601e+01 -1.245457e+02   \n",
              "25%    2.000000e+00  3.344517e+01 -1.180331e+02  3.344628e+01 -1.180333e+02   \n",
              "50%    2.000000e+00  3.609861e+01 -9.241808e+01  3.609799e+01 -9.241772e+01   \n",
              "75%    2.000000e+00  4.016024e+01 -8.037243e+01  4.016105e+01 -8.037338e+01   \n",
              "max    4.000000e+00  4.900058e+01 -6.711317e+01  4.907500e+01 -6.710924e+01   \n",
              "\n",
              "       Distance(mi)        Number  Temperature(F)  Wind_Chill(F)  \\\n",
              "count  2.845342e+06  1.101431e+06    2.776068e+06   2.375699e+06   \n",
              "mean   7.026779e-01  8.089408e+03    6.179356e+01   5.965823e+01   \n",
              "std    1.560361e+00  1.836009e+04    1.862263e+01   2.116097e+01   \n",
              "min    0.000000e+00  0.000000e+00   -8.900000e+01  -8.900000e+01   \n",
              "25%    5.200000e-02  1.270000e+03    5.000000e+01   4.600000e+01   \n",
              "50%    2.440000e-01  4.007000e+03    6.400000e+01   6.300000e+01   \n",
              "75%    7.640000e-01  9.567000e+03    7.600000e+01   7.600000e+01   \n",
              "max    1.551860e+02  9.999997e+06    1.960000e+02   1.960000e+02   \n",
              "\n",
              "        Humidity(%)  Pressure(in)  Visibility(mi)  Wind_Speed(mph)  \\\n",
              "count  2.772250e+06  2.786142e+06    2.774796e+06     2.687398e+06   \n",
              "mean   6.436545e+01  2.947234e+01    9.099391e+00     7.395044e+00   \n",
              "std    2.287457e+01  1.045286e+00    2.717546e+00     5.527454e+00   \n",
              "min    1.000000e+00  0.000000e+00    0.000000e+00     0.000000e+00   \n",
              "25%    4.800000e+01  2.931000e+01    1.000000e+01     3.500000e+00   \n",
              "50%    6.700000e+01  2.982000e+01    1.000000e+01     7.000000e+00   \n",
              "75%    8.300000e+01  3.001000e+01    1.000000e+01     1.000000e+01   \n",
              "max    1.000000e+02  5.890000e+01    1.400000e+02     1.087000e+03   \n",
              "\n",
              "       Precipitation(in)  \n",
              "count       2.295884e+06  \n",
              "mean        7.016940e-03  \n",
              "std         9.348831e-02  \n",
              "min         0.000000e+00  \n",
              "25%         0.000000e+00  \n",
              "50%         0.000000e+00  \n",
              "75%         0.000000e+00  \n",
              "max         2.400000e+01  "
            ],
            "text/html": [
              "\n",
              "  <div id=\"df-70f9288b-bb7d-47ba-b84e-ce67d10ec645\">\n",
              "    <div class=\"colab-df-container\">\n",
              "      <div>\n",
              "<style scoped>\n",
              "    .dataframe tbody tr th:only-of-type {\n",
              "        vertical-align: middle;\n",
              "    }\n",
              "\n",
              "    .dataframe tbody tr th {\n",
              "        vertical-align: top;\n",
              "    }\n",
              "\n",
              "    .dataframe thead th {\n",
              "        text-align: right;\n",
              "    }\n",
              "</style>\n",
              "<table border=\"1\" class=\"dataframe\">\n",
              "  <thead>\n",
              "    <tr style=\"text-align: right;\">\n",
              "      <th></th>\n",
              "      <th>Severity</th>\n",
              "      <th>Start_Lat</th>\n",
              "      <th>Start_Lng</th>\n",
              "      <th>End_Lat</th>\n",
              "      <th>End_Lng</th>\n",
              "      <th>Distance(mi)</th>\n",
              "      <th>Number</th>\n",
              "      <th>Temperature(F)</th>\n",
              "      <th>Wind_Chill(F)</th>\n",
              "      <th>Humidity(%)</th>\n",
              "      <th>Pressure(in)</th>\n",
              "      <th>Visibility(mi)</th>\n",
              "      <th>Wind_Speed(mph)</th>\n",
              "      <th>Precipitation(in)</th>\n",
              "    </tr>\n",
              "  </thead>\n",
              "  <tbody>\n",
              "    <tr>\n",
              "      <th>count</th>\n",
              "      <td>2.845342e+06</td>\n",
              "      <td>2.845342e+06</td>\n",
              "      <td>2.845342e+06</td>\n",
              "      <td>2.845342e+06</td>\n",
              "      <td>2.845342e+06</td>\n",
              "      <td>2.845342e+06</td>\n",
              "      <td>1.101431e+06</td>\n",
              "      <td>2.776068e+06</td>\n",
              "      <td>2.375699e+06</td>\n",
              "      <td>2.772250e+06</td>\n",
              "      <td>2.786142e+06</td>\n",
              "      <td>2.774796e+06</td>\n",
              "      <td>2.687398e+06</td>\n",
              "      <td>2.295884e+06</td>\n",
              "    </tr>\n",
              "    <tr>\n",
              "      <th>mean</th>\n",
              "      <td>2.137572e+00</td>\n",
              "      <td>3.624520e+01</td>\n",
              "      <td>-9.711463e+01</td>\n",
              "      <td>3.624532e+01</td>\n",
              "      <td>-9.711439e+01</td>\n",
              "      <td>7.026779e-01</td>\n",
              "      <td>8.089408e+03</td>\n",
              "      <td>6.179356e+01</td>\n",
              "      <td>5.965823e+01</td>\n",
              "      <td>6.436545e+01</td>\n",
              "      <td>2.947234e+01</td>\n",
              "      <td>9.099391e+00</td>\n",
              "      <td>7.395044e+00</td>\n",
              "      <td>7.016940e-03</td>\n",
              "    </tr>\n",
              "    <tr>\n",
              "      <th>std</th>\n",
              "      <td>4.787216e-01</td>\n",
              "      <td>5.363797e+00</td>\n",
              "      <td>1.831782e+01</td>\n",
              "      <td>5.363873e+00</td>\n",
              "      <td>1.831763e+01</td>\n",
              "      <td>1.560361e+00</td>\n",
              "      <td>1.836009e+04</td>\n",
              "      <td>1.862263e+01</td>\n",
              "      <td>2.116097e+01</td>\n",
              "      <td>2.287457e+01</td>\n",
              "      <td>1.045286e+00</td>\n",
              "      <td>2.717546e+00</td>\n",
              "      <td>5.527454e+00</td>\n",
              "      <td>9.348831e-02</td>\n",
              "    </tr>\n",
              "    <tr>\n",
              "      <th>min</th>\n",
              "      <td>1.000000e+00</td>\n",
              "      <td>2.456603e+01</td>\n",
              "      <td>-1.245481e+02</td>\n",
              "      <td>2.456601e+01</td>\n",
              "      <td>-1.245457e+02</td>\n",
              "      <td>0.000000e+00</td>\n",
              "      <td>0.000000e+00</td>\n",
              "      <td>-8.900000e+01</td>\n",
              "      <td>-8.900000e+01</td>\n",
              "      <td>1.000000e+00</td>\n",
              "      <td>0.000000e+00</td>\n",
              "      <td>0.000000e+00</td>\n",
              "      <td>0.000000e+00</td>\n",
              "      <td>0.000000e+00</td>\n",
              "    </tr>\n",
              "    <tr>\n",
              "      <th>25%</th>\n",
              "      <td>2.000000e+00</td>\n",
              "      <td>3.344517e+01</td>\n",
              "      <td>-1.180331e+02</td>\n",
              "      <td>3.344628e+01</td>\n",
              "      <td>-1.180333e+02</td>\n",
              "      <td>5.200000e-02</td>\n",
              "      <td>1.270000e+03</td>\n",
              "      <td>5.000000e+01</td>\n",
              "      <td>4.600000e+01</td>\n",
              "      <td>4.800000e+01</td>\n",
              "      <td>2.931000e+01</td>\n",
              "      <td>1.000000e+01</td>\n",
              "      <td>3.500000e+00</td>\n",
              "      <td>0.000000e+00</td>\n",
              "    </tr>\n",
              "    <tr>\n",
              "      <th>50%</th>\n",
              "      <td>2.000000e+00</td>\n",
              "      <td>3.609861e+01</td>\n",
              "      <td>-9.241808e+01</td>\n",
              "      <td>3.609799e+01</td>\n",
              "      <td>-9.241772e+01</td>\n",
              "      <td>2.440000e-01</td>\n",
              "      <td>4.007000e+03</td>\n",
              "      <td>6.400000e+01</td>\n",
              "      <td>6.300000e+01</td>\n",
              "      <td>6.700000e+01</td>\n",
              "      <td>2.982000e+01</td>\n",
              "      <td>1.000000e+01</td>\n",
              "      <td>7.000000e+00</td>\n",
              "      <td>0.000000e+00</td>\n",
              "    </tr>\n",
              "    <tr>\n",
              "      <th>75%</th>\n",
              "      <td>2.000000e+00</td>\n",
              "      <td>4.016024e+01</td>\n",
              "      <td>-8.037243e+01</td>\n",
              "      <td>4.016105e+01</td>\n",
              "      <td>-8.037338e+01</td>\n",
              "      <td>7.640000e-01</td>\n",
              "      <td>9.567000e+03</td>\n",
              "      <td>7.600000e+01</td>\n",
              "      <td>7.600000e+01</td>\n",
              "      <td>8.300000e+01</td>\n",
              "      <td>3.001000e+01</td>\n",
              "      <td>1.000000e+01</td>\n",
              "      <td>1.000000e+01</td>\n",
              "      <td>0.000000e+00</td>\n",
              "    </tr>\n",
              "    <tr>\n",
              "      <th>max</th>\n",
              "      <td>4.000000e+00</td>\n",
              "      <td>4.900058e+01</td>\n",
              "      <td>-6.711317e+01</td>\n",
              "      <td>4.907500e+01</td>\n",
              "      <td>-6.710924e+01</td>\n",
              "      <td>1.551860e+02</td>\n",
              "      <td>9.999997e+06</td>\n",
              "      <td>1.960000e+02</td>\n",
              "      <td>1.960000e+02</td>\n",
              "      <td>1.000000e+02</td>\n",
              "      <td>5.890000e+01</td>\n",
              "      <td>1.400000e+02</td>\n",
              "      <td>1.087000e+03</td>\n",
              "      <td>2.400000e+01</td>\n",
              "    </tr>\n",
              "  </tbody>\n",
              "</table>\n",
              "</div>\n",
              "      <button class=\"colab-df-convert\" onclick=\"convertToInteractive('df-70f9288b-bb7d-47ba-b84e-ce67d10ec645')\"\n",
              "              title=\"Convert this dataframe to an interactive table.\"\n",
              "              style=\"display:none;\">\n",
              "        \n",
              "  <svg xmlns=\"http://www.w3.org/2000/svg\" height=\"24px\"viewBox=\"0 0 24 24\"\n",
              "       width=\"24px\">\n",
              "    <path d=\"M0 0h24v24H0V0z\" fill=\"none\"/>\n",
              "    <path d=\"M18.56 5.44l.94 2.06.94-2.06 2.06-.94-2.06-.94-.94-2.06-.94 2.06-2.06.94zm-11 1L8.5 8.5l.94-2.06 2.06-.94-2.06-.94L8.5 2.5l-.94 2.06-2.06.94zm10 10l.94 2.06.94-2.06 2.06-.94-2.06-.94-.94-2.06-.94 2.06-2.06.94z\"/><path d=\"M17.41 7.96l-1.37-1.37c-.4-.4-.92-.59-1.43-.59-.52 0-1.04.2-1.43.59L10.3 9.45l-7.72 7.72c-.78.78-.78 2.05 0 2.83L4 21.41c.39.39.9.59 1.41.59.51 0 1.02-.2 1.41-.59l7.78-7.78 2.81-2.81c.8-.78.8-2.07 0-2.86zM5.41 20L4 18.59l7.72-7.72 1.47 1.35L5.41 20z\"/>\n",
              "  </svg>\n",
              "      </button>\n",
              "      \n",
              "  <style>\n",
              "    .colab-df-container {\n",
              "      display:flex;\n",
              "      flex-wrap:wrap;\n",
              "      gap: 12px;\n",
              "    }\n",
              "\n",
              "    .colab-df-convert {\n",
              "      background-color: #E8F0FE;\n",
              "      border: none;\n",
              "      border-radius: 50%;\n",
              "      cursor: pointer;\n",
              "      display: none;\n",
              "      fill: #1967D2;\n",
              "      height: 32px;\n",
              "      padding: 0 0 0 0;\n",
              "      width: 32px;\n",
              "    }\n",
              "\n",
              "    .colab-df-convert:hover {\n",
              "      background-color: #E2EBFA;\n",
              "      box-shadow: 0px 1px 2px rgba(60, 64, 67, 0.3), 0px 1px 3px 1px rgba(60, 64, 67, 0.15);\n",
              "      fill: #174EA6;\n",
              "    }\n",
              "\n",
              "    [theme=dark] .colab-df-convert {\n",
              "      background-color: #3B4455;\n",
              "      fill: #D2E3FC;\n",
              "    }\n",
              "\n",
              "    [theme=dark] .colab-df-convert:hover {\n",
              "      background-color: #434B5C;\n",
              "      box-shadow: 0px 1px 3px 1px rgba(0, 0, 0, 0.15);\n",
              "      filter: drop-shadow(0px 1px 2px rgba(0, 0, 0, 0.3));\n",
              "      fill: #FFFFFF;\n",
              "    }\n",
              "  </style>\n",
              "\n",
              "      <script>\n",
              "        const buttonEl =\n",
              "          document.querySelector('#df-70f9288b-bb7d-47ba-b84e-ce67d10ec645 button.colab-df-convert');\n",
              "        buttonEl.style.display =\n",
              "          google.colab.kernel.accessAllowed ? 'block' : 'none';\n",
              "\n",
              "        async function convertToInteractive(key) {\n",
              "          const element = document.querySelector('#df-70f9288b-bb7d-47ba-b84e-ce67d10ec645');\n",
              "          const dataTable =\n",
              "            await google.colab.kernel.invokeFunction('convertToInteractive',\n",
              "                                                     [key], {});\n",
              "          if (!dataTable) return;\n",
              "\n",
              "          const docLinkHtml = 'Like what you see? Visit the ' +\n",
              "            '<a target=\"_blank\" href=https://colab.research.google.com/notebooks/data_table.ipynb>data table notebook</a>'\n",
              "            + ' to learn more about interactive tables.';\n",
              "          element.innerHTML = '';\n",
              "          dataTable['output_type'] = 'display_data';\n",
              "          await google.colab.output.renderOutput(dataTable, element);\n",
              "          const docLink = document.createElement('div');\n",
              "          docLink.innerHTML = docLinkHtml;\n",
              "          element.appendChild(docLink);\n",
              "        }\n",
              "      </script>\n",
              "    </div>\n",
              "  </div>\n",
              "  "
            ]
          },
          "metadata": {},
          "execution_count": 15
        }
      ]
    },
    {
      "cell_type": "code",
      "source": [
        "#numeric columns\n",
        "\n",
        "numerics = ['int16', 'int32', 'int64', 'float16', 'float32', 'float64']\n",
        "\n",
        "numeric_df = df.select_dtypes(include=numerics)"
      ],
      "metadata": {
        "id": "PNYaBA3h1mdr"
      },
      "execution_count": 16,
      "outputs": []
    },
    {
      "cell_type": "code",
      "source": [
        "numeric_df.info()"
      ],
      "metadata": {
        "colab": {
          "base_uri": "https://localhost:8080/"
        },
        "id": "GJOKyAZ03UTV",
        "outputId": "3a7523a5-cb73-4b09-8049-ece0fd6b8565"
      },
      "execution_count": 17,
      "outputs": [
        {
          "output_type": "stream",
          "name": "stdout",
          "text": [
            "<class 'pandas.core.frame.DataFrame'>\n",
            "RangeIndex: 2845342 entries, 0 to 2845341\n",
            "Data columns (total 14 columns):\n",
            " #   Column             Dtype  \n",
            "---  ------             -----  \n",
            " 0   Severity           int64  \n",
            " 1   Start_Lat          float64\n",
            " 2   Start_Lng          float64\n",
            " 3   End_Lat            float64\n",
            " 4   End_Lng            float64\n",
            " 5   Distance(mi)       float64\n",
            " 6   Number             float64\n",
            " 7   Temperature(F)     float64\n",
            " 8   Wind_Chill(F)      float64\n",
            " 9   Humidity(%)        float64\n",
            " 10  Pressure(in)       float64\n",
            " 11  Visibility(mi)     float64\n",
            " 12  Wind_Speed(mph)    float64\n",
            " 13  Precipitation(in)  float64\n",
            "dtypes: float64(13), int64(1)\n",
            "memory usage: 303.9 MB\n"
          ]
        }
      ]
    },
    {
      "cell_type": "markdown",
      "source": [
        "###Fix null or incorrect data"
      ],
      "metadata": {
        "id": "zL_tibijqci4"
      }
    },
    {
      "cell_type": "code",
      "source": [
        "null_percentages = df.isnull().sum().sort_values(ascending=False) / len(df)\n",
        "null_percentages"
      ],
      "metadata": {
        "colab": {
          "base_uri": "https://localhost:8080/"
        },
        "id": "AVVQo_O53dIa",
        "outputId": "5f65828f-48e2-403c-9c22-353c1560572d"
      },
      "execution_count": 18,
      "outputs": [
        {
          "output_type": "execute_result",
          "data": {
            "text/plain": [
              "Number                   6.129003e-01\n",
              "Precipitation(in)        1.931079e-01\n",
              "Wind_Chill(F)            1.650568e-01\n",
              "Wind_Speed(mph)          5.550967e-02\n",
              "Wind_Direction           2.592834e-02\n",
              "Humidity(%)              2.568830e-02\n",
              "Weather_Condition        2.482514e-02\n",
              "Visibility(mi)           2.479350e-02\n",
              "Temperature(F)           2.434646e-02\n",
              "Pressure(in)             2.080593e-02\n",
              "Weather_Timestamp        1.783125e-02\n",
              "Airport_Code             3.356011e-03\n",
              "Timezone                 1.285961e-03\n",
              "Nautical_Twilight        1.007612e-03\n",
              "Civil_Twilight           1.007612e-03\n",
              "Sunrise_Sunset           1.007612e-03\n",
              "Astronomical_Twilight    1.007612e-03\n",
              "Zipcode                  4.635647e-04\n",
              "City                     4.814887e-05\n",
              "Street                   7.029032e-07\n",
              "Country                  0.000000e+00\n",
              "Junction                 0.000000e+00\n",
              "Start_Time               0.000000e+00\n",
              "End_Time                 0.000000e+00\n",
              "Start_Lat                0.000000e+00\n",
              "Turning_Loop             0.000000e+00\n",
              "Traffic_Signal           0.000000e+00\n",
              "Traffic_Calming          0.000000e+00\n",
              "Stop                     0.000000e+00\n",
              "Station                  0.000000e+00\n",
              "Roundabout               0.000000e+00\n",
              "Railway                  0.000000e+00\n",
              "No_Exit                  0.000000e+00\n",
              "Crossing                 0.000000e+00\n",
              "Give_Way                 0.000000e+00\n",
              "Bump                     0.000000e+00\n",
              "Amenity                  0.000000e+00\n",
              "Start_Lng                0.000000e+00\n",
              "End_Lat                  0.000000e+00\n",
              "End_Lng                  0.000000e+00\n",
              "Distance(mi)             0.000000e+00\n",
              "Description              0.000000e+00\n",
              "Severity                 0.000000e+00\n",
              "Side                     0.000000e+00\n",
              "County                   0.000000e+00\n",
              "State                    0.000000e+00\n",
              "ID                       0.000000e+00\n",
              "dtype: float64"
            ]
          },
          "metadata": {},
          "execution_count": 18
        }
      ]
    },
    {
      "cell_type": "code",
      "source": [
        "# plot null columns \n",
        "null_percentages[null_percentages != 0].plot(kind='barh')"
      ],
      "metadata": {
        "colab": {
          "base_uri": "https://localhost:8080/",
          "height": 282
        },
        "id": "VgRVAEj35GuJ",
        "outputId": "fa44ccc5-fd5b-4732-ccd4-4ffcfed49302"
      },
      "execution_count": 19,
      "outputs": [
        {
          "output_type": "execute_result",
          "data": {
            "text/plain": [
              "<matplotlib.axes._subplots.AxesSubplot at 0x7f1ad190b450>"
            ]
          },
          "metadata": {},
          "execution_count": 19
        },
        {
          "output_type": "display_data",
          "data": {
            "text/plain": [
              "<Figure size 432x288 with 1 Axes>"
            ],
            "image/png": "[encoded data removed]"
          },
          "metadata": {
            "needs_background": "light"
          }
        }
      ]
    },
    {
      "cell_type": "code",
      "source": [
        "#drop useles columns\n",
        "\n",
        "df = df.drop(columns=['Number'], axis=1)"
      ],
      "metadata": {
        "id": "SDdeMs9y6GWZ"
      },
      "execution_count": 20,
      "outputs": []
    },
    {
      "cell_type": "code",
      "source": [
        "df.info()"
      ],
      "metadata": {
        "colab": {
          "base_uri": "https://localhost:8080/"
        },
        "id": "xFR58S4N7L7w",
        "outputId": "678f31d4-fb8a-42f8-a923-cee68f8ed87b"
      },
      "execution_count": 21,
      "outputs": [
        {
          "output_type": "stream",
          "name": "stdout",
          "text": [
            "<class 'pandas.core.frame.DataFrame'>\n",
            "RangeIndex: 2845342 entries, 0 to 2845341\n",
            "Data columns (total 46 columns):\n",
            " #   Column                 Dtype  \n",
            "---  ------                 -----  \n",
            " 0   ID                     object \n",
            " 1   Severity               int64  \n",
            " 2   Start_Time             object \n",
            " 3   End_Time               object \n",
            " 4   Start_Lat              float64\n",
            " 5   Start_Lng              float64\n",
            " 6   End_Lat                float64\n",
            " 7   End_Lng                float64\n",
            " 8   Distance(mi)           float64\n",
            " 9   Description            object \n",
            " 10  Street                 object \n",
            " 11  Side                   object \n",
            " 12  City                   object \n",
            " 13  County                 object \n",
            " 14  State                  object \n",
            " 15  Zipcode                object \n",
            " 16  Country                object \n",
            " 17  Timezone               object \n",
            " 18  Airport_Code           object \n",
            " 19  Weather_Timestamp      object \n",
            " 20  Temperature(F)         float64\n",
            " 21  Wind_Chill(F)          float64\n",
            " 22  Humidity(%)            float64\n",
            " 23  Pressure(in)           float64\n",
            " 24  Visibility(mi)         float64\n",
            " 25  Wind_Direction         object \n",
            " 26  Wind_Speed(mph)        float64\n",
            " 27  Precipitation(in)      float64\n",
            " 28  Weather_Condition      object \n",
            " 29  Amenity                bool   \n",
            " 30  Bump                   bool   \n",
            " 31  Crossing               bool   \n",
            " 32  Give_Way               bool   \n",
            " 33  Junction               bool   \n",
            " 34  No_Exit                bool   \n",
            " 35  Railway                bool   \n",
            " 36  Roundabout             bool   \n",
            " 37  Station                bool   \n",
            " 38  Stop                   bool   \n",
            " 39  Traffic_Calming        bool   \n",
            " 40  Traffic_Signal         bool   \n",
            " 41  Turning_Loop           bool   \n",
            " 42  Sunrise_Sunset         object \n",
            " 43  Civil_Twilight         object \n",
            " 44  Nautical_Twilight      object \n",
            " 45  Astronomical_Twilight  object \n",
            "dtypes: bool(13), float64(12), int64(1), object(20)\n",
            "memory usage: 751.6+ MB\n"
          ]
        }
      ]
    },
    {
      "cell_type": "markdown",
      "source": [
        "## Exploratory analysis and visualization:\n",
        "\n",
        "Columns of interest:\n",
        "\n",
        "\n",
        "1.   Start_Lat, Start_lng\n",
        "2.   Start_time\n",
        "3.   City"
      ],
      "metadata": {
        "id": "xppLeFHtu1qs"
      }
    },
    {
      "cell_type": "markdown",
      "source": [
        "###City"
      ],
      "metadata": {
        "id": "ffs6mSehVc9_"
      }
    },
    {
      "cell_type": "code",
      "source": [
        "\n",
        "\n",
        "df.City"
      ],
      "metadata": {
        "colab": {
          "base_uri": "https://localhost:8080/"
        },
        "id": "kDu59CIeARwR",
        "outputId": "076ce56b-b733-46b4-eacb-beab3298fbdd"
      },
      "execution_count": 22,
      "outputs": [
        {
          "output_type": "execute_result",
          "data": {
            "text/plain": [
              "0               Dublin\n",
              "1               Dayton\n",
              "2           Cincinnati\n",
              "3                Akron\n",
              "4           Cincinnati\n",
              "              ...     \n",
              "2845337      Riverside\n",
              "2845338      San Diego\n",
              "2845339         Orange\n",
              "2845340    Culver City\n",
              "2845341       Highland\n",
              "Name: City, Length: 2845342, dtype: object"
            ]
          },
          "metadata": {},
          "execution_count": 22
        }
      ]
    },
    {
      "cell_type": "code",
      "source": [
        "cities = df.City.unique()\n",
        "len(cities)"
      ],
      "metadata": {
        "colab": {
          "base_uri": "https://localhost:8080/"
        },
        "id": "WLfcEmCCu5Xf",
        "outputId": "3bc49256-7657-433c-9162-22eae1b0514b"
      },
      "execution_count": 23,
      "outputs": [
        {
          "output_type": "execute_result",
          "data": {
            "text/plain": [
              "11682"
            ]
          },
          "metadata": {},
          "execution_count": 23
        }
      ]
    },
    {
      "cell_type": "code",
      "source": [
        "# cities interms of accidents\n",
        "cities_by_acc = df.City.value_counts()\n",
        "cities_by_acc[:20]"
      ],
      "metadata": {
        "colab": {
          "base_uri": "https://localhost:8080/"
        },
        "id": "zN7DIEYjrSYC",
        "outputId": "1df7516b-fa82-4a37-cd0b-76a69c1da26b"
      },
      "execution_count": 24,
      "outputs": [
        {
          "output_type": "execute_result",
          "data": {
            "text/plain": [
              "Miami           106966\n",
              "Los Angeles      68956\n",
              "Orlando          54691\n",
              "Dallas           41979\n",
              "Houston          39448\n",
              "Charlotte        33152\n",
              "Sacramento       32559\n",
              "San Diego        26627\n",
              "Raleigh          22840\n",
              "Minneapolis      22768\n",
              "Portland         20944\n",
              "Nashville        20267\n",
              "Austin           18301\n",
              "Baton Rouge      18182\n",
              "Phoenix          17143\n",
              "Saint Paul       16869\n",
              "New Orleans      16251\n",
              "Atlanta          15622\n",
              "Jacksonville     14967\n",
              "Richmond         14349\n",
              "Name: City, dtype: int64"
            ]
          },
          "metadata": {},
          "execution_count": 24
        }
      ]
    },
    {
      "cell_type": "markdown",
      "source": [
        "Miami has the highest number of accidents."
      ],
      "metadata": {
        "id": "NL8iQKdVm8E2"
      }
    },
    {
      "cell_type": "code",
      "source": [
        "cities_by_acc[:20].plot(kind='barh')"
      ],
      "metadata": {
        "colab": {
          "base_uri": "https://localhost:8080/",
          "height": 282
        },
        "id": "cBeAXnOvJxML",
        "outputId": "203f95c8-75e4-4813-ba30-0f6666090d38"
      },
      "execution_count": 25,
      "outputs": [
        {
          "output_type": "execute_result",
          "data": {
            "text/plain": [
              "<matplotlib.axes._subplots.AxesSubplot at 0x7f1b1c19c850>"
            ]
          },
          "metadata": {},
          "execution_count": 25
        },
        {
          "output_type": "display_data",
          "data": {
            "text/plain": [
              "<Figure size 432x288 with 1 Axes>"
            ],
            "image/png": "[encoded data removed]"
          },
          "metadata": {
            "needs_background": "light"
          }
        }
      ]
    },
    {
      "cell_type": "code",
      "source": [
        "#accident distribution in cities\n",
        "\n",
        "import seaborn as sns\n",
        "\n",
        "sns.set_style('darkgrid')"
      ],
      "metadata": {
        "id": "FmsZDCvJCmvI"
      },
      "execution_count": 26,
      "outputs": []
    },
    {
      "cell_type": "code",
      "source": [
        "sns.distplot(cities_by_acc)"
      ],
      "metadata": {
        "colab": {
          "base_uri": "https://localhost:8080/",
          "height": 351
        },
        "id": "eVbx2tEbBnUi",
        "outputId": "a32e22b3-5c3a-4250-ae9d-e2fc1872f2d4"
      },
      "execution_count": 27,
      "outputs": [
        {
          "output_type": "stream",
          "name": "stderr",
          "text": [
            "/usr/local/lib/python3.7/dist-packages/seaborn/distributions.py:2619: FutureWarning: `distplot` is a deprecated function and will be removed in a future version. Please adapt your code to use either `displot` (a figure-level function with similar flexibility) or `histplot` (an axes-level function for histograms).\n",
            "  warnings.warn(msg, FutureWarning)\n"
          ]
        },
        {
          "output_type": "execute_result",
          "data": {
            "text/plain": [
              "<matplotlib.axes._subplots.AxesSubplot at 0x7f1ac4b69c10>"
            ]
          },
          "metadata": {},
          "execution_count": 27
        },
        {
          "output_type": "display_data",
          "data": {
            "text/plain": [
              "<Figure size 432x288 with 1 Axes>"
            ],
            "image/png": "[encoded data removed]"
          },
          "metadata": {}
        }
      ]
    },
    {
      "cell_type": "code",
      "source": [
        "high_acc_cities = cities_by_acc[cities_by_acc >= 1000]\n",
        "low_acc_cities = cities_by_acc[cities_by_acc < 1000]"
      ],
      "metadata": {
        "id": "RoSEpqTgL00Q"
      },
      "execution_count": 28,
      "outputs": []
    },
    {
      "cell_type": "code",
      "source": [
        "len(high_acc_cities)/ len(low_acc_cities)"
      ],
      "metadata": {
        "colab": {
          "base_uri": "https://localhost:8080/"
        },
        "id": "huEdwAjyBjsG",
        "outputId": "d7737311-ced7-4cd7-a795-c737d2d89021"
      },
      "execution_count": 29,
      "outputs": [
        {
          "output_type": "execute_result",
          "data": {
            "text/plain": [
              "0.04434510505140814"
            ]
          },
          "metadata": {},
          "execution_count": 29
        }
      ]
    },
    {
      "cell_type": "code",
      "source": [
        "sns.distplot(high_acc_cities)"
      ],
      "metadata": {
        "colab": {
          "base_uri": "https://localhost:8080/",
          "height": 351
        },
        "id": "y5zz347BNRjt",
        "outputId": "59e84770-e5a6-4c95-e914-2936026545dc"
      },
      "execution_count": 30,
      "outputs": [
        {
          "output_type": "stream",
          "name": "stderr",
          "text": [
            "/usr/local/lib/python3.7/dist-packages/seaborn/distributions.py:2619: FutureWarning: `distplot` is a deprecated function and will be removed in a future version. Please adapt your code to use either `displot` (a figure-level function with similar flexibility) or `histplot` (an axes-level function for histograms).\n",
            "  warnings.warn(msg, FutureWarning)\n"
          ]
        },
        {
          "output_type": "execute_result",
          "data": {
            "text/plain": [
              "<matplotlib.axes._subplots.AxesSubplot at 0x7f1ac4b2a5d0>"
            ]
          },
          "metadata": {},
          "execution_count": 30
        },
        {
          "output_type": "display_data",
          "data": {
            "text/plain": [
              "<Figure size 432x288 with 1 Axes>"
            ],
            "image/png": "[encoded data removed]"
          },
          "metadata": {}
        }
      ]
    },
    {
      "cell_type": "code",
      "source": [
        "sns.distplot(low_acc_cities)"
      ],
      "metadata": {
        "colab": {
          "base_uri": "https://localhost:8080/",
          "height": 351
        },
        "id": "IZ9sm2KWrSSJ",
        "outputId": "7515b5c3-db1a-4f7b-cd40-a3d251af22bf"
      },
      "execution_count": 31,
      "outputs": [
        {
          "output_type": "stream",
          "name": "stderr",
          "text": [
            "/usr/local/lib/python3.7/dist-packages/seaborn/distributions.py:2619: FutureWarning: `distplot` is a deprecated function and will be removed in a future version. Please adapt your code to use either `displot` (a figure-level function with similar flexibility) or `histplot` (an axes-level function for histograms).\n",
            "  warnings.warn(msg, FutureWarning)\n"
          ]
        },
        {
          "output_type": "execute_result",
          "data": {
            "text/plain": [
              "<matplotlib.axes._subplots.AxesSubplot at 0x7f1ac2114950>"
            ]
          },
          "metadata": {},
          "execution_count": 31
        },
        {
          "output_type": "display_data",
          "data": {
            "text/plain": [
              "<Figure size 432x288 with 1 Axes>"
            ],
            "image/png": "[encoded data removed]"
          },
          "metadata": {}
        }
      ]
    },
    {
      "cell_type": "code",
      "source": [
        "sns.histplot(cities_by_acc, log_scale = True)"
      ],
      "metadata": {
        "colab": {
          "base_uri": "https://localhost:8080/",
          "height": 300
        },
        "id": "o-a0zFP0OpP6",
        "outputId": "e1396a47-7c0a-470b-ddb9-1db34e62c5ab"
      },
      "execution_count": 32,
      "outputs": [
        {
          "output_type": "execute_result",
          "data": {
            "text/plain": [
              "<matplotlib.axes._subplots.AxesSubplot at 0x7f1ac2029f10>"
            ]
          },
          "metadata": {},
          "execution_count": 32
        },
        {
          "output_type": "display_data",
          "data": {
            "text/plain": [
              "<Figure size 432x288 with 1 Axes>"
            ],
            "image/png": "[encoded data removed]"
          },
          "metadata": {}
        }
      ]
    },
    {
      "cell_type": "code",
      "source": [
        "cities_by_acc[cities_by_acc < 5]"
      ],
      "metadata": {
        "colab": {
          "base_uri": "https://localhost:8080/"
        },
        "id": "SFIdc59eP6E_",
        "outputId": "ace9dd7c-e0a2-4eca-dfec-b56836ef23e6"
      },
      "execution_count": 33,
      "outputs": [
        {
          "output_type": "execute_result",
          "data": {
            "text/plain": [
              "Wyandanch                       4\n",
              "Hillsgrove                      4\n",
              "Traer                           4\n",
              "Hallsboro                       4\n",
              "Bostic                          4\n",
              "                               ..\n",
              "Ridgedale                       1\n",
              "Sekiu                           1\n",
              "Wooldridge                      1\n",
              "Bullock                         1\n",
              "American Fork-Pleasant Grove    1\n",
              "Name: City, Length: 3029, dtype: int64"
            ]
          },
          "metadata": {},
          "execution_count": 33
        }
      ]
    },
    {
      "cell_type": "markdown",
      "source": [
        "### Start Time"
      ],
      "metadata": {
        "id": "NpWWYuxGVjyn"
      }
    },
    {
      "cell_type": "markdown",
      "source": [
        "What time of the dday do most accidents occur?"
      ],
      "metadata": {
        "id": "BwTll8M_mnlF"
      }
    },
    {
      "cell_type": "code",
      "source": [
        "df.Start_Time"
      ],
      "metadata": {
        "colab": {
          "base_uri": "https://localhost:8080/"
        },
        "id": "tfQvTAq1QE63",
        "outputId": "5d1bcf8c-4253-4a4e-ae94-9500c5bacbcc"
      },
      "execution_count": 34,
      "outputs": [
        {
          "output_type": "execute_result",
          "data": {
            "text/plain": [
              "0          2016-02-08 00:37:08\n",
              "1          2016-02-08 05:56:20\n",
              "2          2016-02-08 06:15:39\n",
              "3          2016-02-08 06:51:45\n",
              "4          2016-02-08 07:53:43\n",
              "                  ...         \n",
              "2845337    2019-08-23 18:03:25\n",
              "2845338    2019-08-23 19:11:30\n",
              "2845339    2019-08-23 19:00:21\n",
              "2845340    2019-08-23 19:00:21\n",
              "2845341    2019-08-23 18:52:06\n",
              "Name: Start_Time, Length: 2845342, dtype: object"
            ]
          },
          "metadata": {},
          "execution_count": 34
        }
      ]
    },
    {
      "cell_type": "code",
      "source": [
        "#convert to dateTime\n",
        "\n",
        "df.Start_Time = pd.to_datetime(df.Start_Time)"
      ],
      "metadata": {
        "id": "kB2nikPHVyOL"
      },
      "execution_count": 35,
      "outputs": []
    },
    {
      "cell_type": "code",
      "source": [
        "#to visualize the hour at every timestamp when accidents happen\n",
        "\n",
        "sns.distplot(df.Start_Time.dt.hour, bins=24, kde=False, norm_hist=True)"
      ],
      "metadata": {
        "colab": {
          "base_uri": "https://localhost:8080/",
          "height": 352
        },
        "id": "C3pSDeIRWLlq",
        "outputId": "4ea8c3da-f11b-424f-f2ec-f7eaec0f7bb5"
      },
      "execution_count": 36,
      "outputs": [
        {
          "output_type": "stream",
          "name": "stderr",
          "text": [
            "/usr/local/lib/python3.7/dist-packages/seaborn/distributions.py:2619: FutureWarning: `distplot` is a deprecated function and will be removed in a future version. Please adapt your code to use either `displot` (a figure-level function with similar flexibility) or `histplot` (an axes-level function for histograms).\n",
            "  warnings.warn(msg, FutureWarning)\n"
          ]
        },
        {
          "output_type": "execute_result",
          "data": {
            "text/plain": [
              "<matplotlib.axes._subplots.AxesSubplot at 0x7f1b1a6b5950>"
            ]
          },
          "metadata": {},
          "execution_count": 36
        },
        {
          "output_type": "display_data",
          "data": {
            "text/plain": [
              "<Figure size 432x288 with 1 Axes>"
            ],
            "image/png": "[encoded data removed]"
          },
          "metadata": {}
        }
      ]
    },
    {
      "cell_type": "markdown",
      "source": [
        "- The highest percentage of accidents occur between 6 and 10 in the morning and between 3 and 7 in the evening."
      ],
      "metadata": {
        "id": "dDg6q7GA6xCf"
      }
    },
    {
      "cell_type": "code",
      "source": [
        "#to visualize accidents distribution for days of the week\n",
        "\n",
        "sns.distplot(df.Start_Time.dt.dayofweek, bins=7, kde=False, norm_hist=True)"
      ],
      "metadata": {
        "colab": {
          "base_uri": "https://localhost:8080/",
          "height": 297
        },
        "id": "I_IqvUEhP58X",
        "outputId": "83f02ee5-16be-48a1-f066-b713605ec570"
      },
      "execution_count": 37,
      "outputs": [
        {
          "output_type": "execute_result",
          "data": {
            "text/plain": [
              "<matplotlib.axes._subplots.AxesSubplot at 0x7f1ac1cbc290>"
            ]
          },
          "metadata": {},
          "execution_count": 37
        },
        {
          "output_type": "display_data",
          "data": {
            "text/plain": [
              "<Figure size 432x288 with 1 Axes>"
            ],
            "image/png": "[encoded data removed]"
          },
          "metadata": {}
        }
      ]
    },
    {
      "cell_type": "code",
      "source": [
        "# checking whether accident distribution spreads out in the weekends in the same manner as weekdays\n",
        "\n",
        "sundays_start_time = df.Start_Time[df.Start_Time.dt.dayofweek == 6]\n",
        "sns.distplot(sundays_start_time.dt.hour, bins=24, kde= False, norm_hist=True)\n",
        " "
      ],
      "metadata": {
        "colab": {
          "base_uri": "https://localhost:8080/",
          "height": 297
        },
        "id": "2SdD0g2iP55P",
        "outputId": "135cfa7a-4921-4979-dc80-882594b94c7a"
      },
      "execution_count": 38,
      "outputs": [
        {
          "output_type": "execute_result",
          "data": {
            "text/plain": [
              "<matplotlib.axes._subplots.AxesSubplot at 0x7f1ac1c3ce10>"
            ]
          },
          "metadata": {},
          "execution_count": 38
        },
        {
          "output_type": "display_data",
          "data": {
            "text/plain": [
              "<Figure size 432x288 with 1 Axes>"
            ],
            "image/png": "[encoded data removed]"
          },
          "metadata": {}
        }
      ]
    },
    {
      "cell_type": "code",
      "source": [
        "#saturday\n",
        "\n",
        "saturdays_start_time = df.Start_Time[df.Start_Time.dt.dayofweek == 5]\n",
        "sns.distplot(saturdays_start_time.dt.hour, bins=24, kde= False, norm_hist=True)"
      ],
      "metadata": {
        "id": "yd8CbluElVyV",
        "outputId": "d808b3b8-b9f4-409f-bdc6-982db2537f80",
        "colab": {
          "base_uri": "https://localhost:8080/",
          "height": 352
        }
      },
      "execution_count": 54,
      "outputs": [
        {
          "output_type": "stream",
          "name": "stderr",
          "text": [
            "/usr/local/lib/python3.7/dist-packages/seaborn/distributions.py:2619: FutureWarning: `distplot` is a deprecated function and will be removed in a future version. Please adapt your code to use either `displot` (a figure-level function with similar flexibility) or `histplot` (an axes-level function for histograms).\n",
            "  warnings.warn(msg, FutureWarning)\n"
          ]
        },
        {
          "output_type": "execute_result",
          "data": {
            "text/plain": [
              "<matplotlib.axes._subplots.AxesSubplot at 0x7f1ac0150b10>"
            ]
          },
          "metadata": {},
          "execution_count": 54
        },
        {
          "output_type": "display_data",
          "data": {
            "text/plain": [
              "<Figure size 432x288 with 1 Axes>"
            ],
            "image/png": "[encoded data removed]"
          },
          "metadata": {}
        }
      ]
    },
    {
      "cell_type": "code",
      "source": [
        "#monday\n",
        "\n",
        "monday_start_time = df.Start_Time[df.Start_Time.dt.dayofweek == 0]\n",
        "sns.distplot(monday_start_time.dt.hour, bins=24, kde= False, norm_hist=True)\n"
      ],
      "metadata": {
        "colab": {
          "base_uri": "https://localhost:8080/",
          "height": 297
        },
        "id": "UFqC-Oi3MCFk",
        "outputId": "6286fcd1-5ffc-4578-8f20-e5589b19dccf"
      },
      "execution_count": 39,
      "outputs": [
        {
          "output_type": "execute_result",
          "data": {
            "text/plain": [
              "<matplotlib.axes._subplots.AxesSubplot at 0x7f1ac1b5fdd0>"
            ]
          },
          "metadata": {},
          "execution_count": 39
        },
        {
          "output_type": "display_data",
          "data": {
            "text/plain": [
              "<Figure size 432x288 with 1 Axes>"
            ],
            "image/png": "[encoded data removed]"
          },
          "metadata": {}
        }
      ]
    },
    {
      "cell_type": "markdown",
      "source": [
        "Weekend distribution is different from weekday distribution, weekends peak in the evening while weekdays have two peaks, mornings and evenings"
      ],
      "metadata": {
        "id": "nKTWFl9QPpdc"
      }
    },
    {
      "cell_type": "markdown",
      "source": [
        "Which months have the most accidents?"
      ],
      "metadata": {
        "id": "2dhRnZWZpWLx"
      }
    },
    {
      "cell_type": "code",
      "source": [
        "#accident distribution per month\n",
        "#month\n",
        "\n",
        "sns.distplot(df.Start_Time.dt.month, bins=12, kde= False, norm_hist=True)"
      ],
      "metadata": {
        "colab": {
          "base_uri": "https://localhost:8080/",
          "height": 297
        },
        "id": "_vQD1OYUP4Yj",
        "outputId": "ce4f8cb8-a69d-43f3-9c0b-c639a90949fb"
      },
      "execution_count": 40,
      "outputs": [
        {
          "output_type": "execute_result",
          "data": {
            "text/plain": [
              "<matplotlib.axes._subplots.AxesSubplot at 0x7f1ac1c3d950>"
            ]
          },
          "metadata": {},
          "execution_count": 40
        },
        {
          "output_type": "display_data",
          "data": {
            "text/plain": [
              "<Figure size 432x288 with 1 Axes>"
            ],
            "image/png": "[encoded data removed]"
          },
          "metadata": {}
        }
      ]
    },
    {
      "cell_type": "markdown",
      "source": [
        "What is the yearly trend of accidents? (increasing or decreasing)"
      ],
      "metadata": {
        "id": "M2Kt-UxMpkuY"
      }
    },
    {
      "cell_type": "code",
      "source": [
        "# check yearly (2021)\n",
        "\n",
        "df_2021 = df[df.Start_Time.dt.year == 2021]\n",
        "sns.distplot(df_2021.Start_Time.dt.month, bins=12, kde= False, norm_hist=True)"
      ],
      "metadata": {
        "colab": {
          "base_uri": "https://localhost:8080/",
          "height": 300
        },
        "id": "HERn0DoDRw8w",
        "outputId": "1e58c68f-4b01-4db0-c614-e6f7519e434d"
      },
      "execution_count": 41,
      "outputs": [
        {
          "output_type": "execute_result",
          "data": {
            "text/plain": [
              "<matplotlib.axes._subplots.AxesSubplot at 0x7f1ac1a246d0>"
            ]
          },
          "metadata": {},
          "execution_count": 41
        },
        {
          "output_type": "display_data",
          "data": {
            "text/plain": [
              "<Figure size 432x288 with 1 Axes>"
            ],
            "image/png": "[encoded data removed]"
          },
          "metadata": {}
        }
      ]
    },
    {
      "cell_type": "code",
      "source": [
        "#2020\n",
        "\n",
        "df_2020 = df[df.Start_Time.dt.year == 2020]\n",
        "sns.distplot(df_2020.Start_Time.dt.month, bins=12, kde= False, norm_hist=True)"
      ],
      "metadata": {
        "colab": {
          "base_uri": "https://localhost:8080/",
          "height": 297
        },
        "id": "vmYs8zEsSYxP",
        "outputId": "7525952f-de5f-4951-d59c-298d2a4297be"
      },
      "execution_count": 42,
      "outputs": [
        {
          "output_type": "execute_result",
          "data": {
            "text/plain": [
              "<matplotlib.axes._subplots.AxesSubplot at 0x7f1ac19bf690>"
            ]
          },
          "metadata": {},
          "execution_count": 42
        },
        {
          "output_type": "display_data",
          "data": {
            "text/plain": [
              "<Figure size 432x288 with 1 Axes>"
            ],
            "image/png": "[encoded data removed]"
          },
          "metadata": {}
        }
      ]
    },
    {
      "cell_type": "markdown",
      "source": [
        "- 2020 has missing values from June to around September."
      ],
      "metadata": {
        "id": "aPBameD8kT4y"
      }
    },
    {
      "cell_type": "code",
      "source": [
        "#2019\n",
        "\n",
        "df_2019 = df[df.Start_Time.dt.year == 2019]\n",
        "sns.distplot(df_2019.Start_Time.dt.month, bins=12, kde= False, norm_hist=True)"
      ],
      "metadata": {
        "colab": {
          "base_uri": "https://localhost:8080/",
          "height": 297
        },
        "id": "fj51Dtk-SoSe",
        "outputId": "e6474c4b-8b43-42cf-bf54-7684cdecea4e"
      },
      "execution_count": 43,
      "outputs": [
        {
          "output_type": "execute_result",
          "data": {
            "text/plain": [
              "<matplotlib.axes._subplots.AxesSubplot at 0x7f1ac1c36b90>"
            ]
          },
          "metadata": {},
          "execution_count": 43
        },
        {
          "output_type": "display_data",
          "data": {
            "text/plain": [
              "<Figure size 432x288 with 1 Axes>"
            ],
            "image/png": "[encoded data removed]"
          },
          "metadata": {}
        }
      ]
    },
    {
      "cell_type": "code",
      "source": [
        "#2016\n",
        "\n",
        "df_2016 = df[df.Start_Time.dt.year == 2016]\n",
        "sns.distplot(df_2016.Start_Time.dt.month, bins=12, kde= False, norm_hist=True)"
      ],
      "metadata": {
        "colab": {
          "base_uri": "https://localhost:8080/",
          "height": 297
        },
        "id": "Il_sT-wPS2k2",
        "outputId": "75581955-7eda-4662-ae57-c9703e3a1546"
      },
      "execution_count": 44,
      "outputs": [
        {
          "output_type": "execute_result",
          "data": {
            "text/plain": [
              "<matplotlib.axes._subplots.AxesSubplot at 0x7f1ac2078850>"
            ]
          },
          "metadata": {},
          "execution_count": 44
        },
        {
          "output_type": "display_data",
          "data": {
            "text/plain": [
              "<Figure size 432x288 with 1 Axes>"
            ],
            "image/png": "[encoded data removed]"
          },
          "metadata": {}
        }
      ]
    },
    {
      "cell_type": "markdown",
      "source": [
        "Explanation for the month-wise trend:\n",
        "\n",
        "- General trend seems fairly same through the years where the winter seasons se alot of accident as compared to summer seasons.\n",
        "- However, some years contain missing data so the trend is not all that conclusive."
      ],
      "metadata": {
        "id": "Masr24Jvj_Jp"
      }
    },
    {
      "cell_type": "markdown",
      "source": [
        "### Start Latitute and Start Longitude\n"
      ],
      "metadata": {
        "id": "TxsCcbCeWYr2"
      }
    },
    {
      "cell_type": "markdown",
      "source": [
        "How are the accidents apread through out various locations?"
      ],
      "metadata": {
        "id": "EmjLL8Gbo4qI"
      }
    },
    {
      "cell_type": "code",
      "source": [
        "df.Start_Lat"
      ],
      "metadata": {
        "colab": {
          "base_uri": "https://localhost:8080/"
        },
        "id": "IIcljkfyUo_D",
        "outputId": "a25a4334-d8ed-432c-e43a-a23b42d48643"
      },
      "execution_count": 45,
      "outputs": [
        {
          "output_type": "execute_result",
          "data": {
            "text/plain": [
              "0          40.108910\n",
              "1          39.865420\n",
              "2          39.102660\n",
              "3          41.062130\n",
              "4          39.172393\n",
              "             ...    \n",
              "2845337    34.002480\n",
              "2845338    32.766960\n",
              "2845339    33.775450\n",
              "2845340    33.992460\n",
              "2845341    34.133930\n",
              "Name: Start_Lat, Length: 2845342, dtype: float64"
            ]
          },
          "metadata": {},
          "execution_count": 45
        }
      ]
    },
    {
      "cell_type": "code",
      "source": [
        "df.Start_Lng"
      ],
      "metadata": {
        "colab": {
          "base_uri": "https://localhost:8080/"
        },
        "id": "bbGmMIQeWm_O",
        "outputId": "501b9f49-98ab-44d4-b3e6-f37064e86ab6"
      },
      "execution_count": 46,
      "outputs": [
        {
          "output_type": "execute_result",
          "data": {
            "text/plain": [
              "0          -83.092860\n",
              "1          -84.062800\n",
              "2          -84.524680\n",
              "3          -81.537840\n",
              "4          -84.492792\n",
              "              ...    \n",
              "2845337   -117.379360\n",
              "2845338   -117.148060\n",
              "2845339   -117.847790\n",
              "2845340   -118.403020\n",
              "2845341   -117.230920\n",
              "Name: Start_Lng, Length: 2845342, dtype: float64"
            ]
          },
          "metadata": {},
          "execution_count": 46
        }
      ]
    },
    {
      "cell_type": "code",
      "source": [
        "sample_df = df.sample(int(0.1*len(df)))\n",
        "sns.scatterplot(x=sample_df.Start_Lng, y=sample_df.Start_Lat, size=0.001)"
      ],
      "metadata": {
        "colab": {
          "base_uri": "https://localhost:8080/",
          "height": 299
        },
        "id": "lOK3N8wIWm9Q",
        "outputId": "91faa302-7216-4f7f-83e8-5b14a65ce1ed"
      },
      "execution_count": 47,
      "outputs": [
        {
          "output_type": "execute_result",
          "data": {
            "text/plain": [
              "<matplotlib.axes._subplots.AxesSubplot at 0x7f1ac1905d50>"
            ]
          },
          "metadata": {},
          "execution_count": 47
        },
        {
          "output_type": "display_data",
          "data": {
            "text/plain": [
              "<Figure size 432x288 with 1 Axes>"
            ],
            "image/png": "[encoded data removed]"
          },
          "metadata": {}
        }
      ]
    },
    {
      "cell_type": "code",
      "source": [
        "import folium as fl\n",
        "from folium import plugins\n",
        "from folium.plugins import HeatMap"
      ],
      "metadata": {
        "id": "TE5qwD1PWm7N"
      },
      "execution_count": 48,
      "outputs": []
    },
    {
      "cell_type": "code",
      "source": [
        "#Distribution of accidents in US using heatmap\n",
        "\n",
        "sample_df = df.sample(int(0.001 * len(df)))\n",
        "lat_lon_pairs = list(zip(list(sample_df.Start_Lat), list(sample_df.Start_Lng)))\n",
        "\n",
        "\n",
        "map = fl.Map()\n",
        "HeatMap(lat_lon_pairs).add_to(map)\n",
        "map\n"
      ],
      "metadata": {
        "colab": {
          "base_uri": "https://localhost:8080/",
          "height": 712
        },
        "id": "wH5wbI4rWm4w",
        "outputId": "a638db4a-ae08-4c76-f318-df71f7ab21da"
      },
      "execution_count": 49,
      "outputs": [
        {
          "output_type": "execute_result",
          "data": {
            "text/plain": [
              "<folium.folium.Map at 0x7f1ac13332d0>"
            ],
            "text/html": [
              "<div style=\"width:100%;\"><div style=\"position:relative;width:100%;height:0;padding-bottom:60%;\"><span style=\"color:#565656\">Make this Notebook Trusted to load map: File -> Trust Notebook</span><iframe srcdoc=\"&lt;!DOCTYPE html&gt;\n",
              "&lt;head&gt;    \n",
              "    &lt;meta http-equiv=&quot;content-type&quot; content=&quot;text/html; charset=UTF-8&quot; /&gt;\n",
              "    \n",
              "        &lt;script&gt;\n",
              "            L_NO_TOUCH = false;\n",
              "            L_DISABLE_3D = false;\n",
              "        &lt;/script&gt;\n",
              "    \n",
              "    &lt;style&gt;html, body {width: 100%;height: 100%;margin: 0;padding: 0;}&lt;/style&gt;\n",
              "    &lt;style&gt;#map {position:absolute;top:0;bottom:0;right:0;left:0;}&lt;/style&gt;\n",
              "    &lt;script src=&quot;https://cdn.jsdelivr.net/npm/leaflet@1.6.0/dist/leaflet.js&quot;&gt;&lt;/script&gt;\n",
              "    &lt;script src=&quot;https://code.jquery.com/jquery-1.12.4.min.js&quot;&gt;&lt;/script&gt;\n",
              "    &lt;script src=&quot;https://maxcdn.bootstrapcdn.com/bootstrap/3.2.0/js/bootstrap.min.js&quot;&gt;&lt;/script&gt;\n",
              "    &lt;script src=&quot;https://cdnjs.cloudflare.com/ajax/libs/Leaflet.awesome-markers/2.0.2/leaflet.awesome-markers.js&quot;&gt;&lt;/script&gt;\n",
              "    &lt;link rel=&quot;stylesheet&quot; href=&quot;https://cdn.jsdelivr.net/npm/leaflet@1.6.0/dist/leaflet.css&quot;/&gt;\n",
              "    &lt;link rel=&quot;stylesheet&quot; href=&quot;https://maxcdn.bootstrapcdn.com/bootstrap/3.2.0/css/bootstrap.min.css&quot;/&gt;\n",
              "    &lt;link rel=&quot;stylesheet&quot; href=&quot;https://maxcdn.bootstrapcdn.com/bootstrap/3.2.0/css/bootstrap-theme.min.css&quot;/&gt;\n",
              "    &lt;link rel=&quot;stylesheet&quot; href=&quot;https://maxcdn.bootstrapcdn.com/font-awesome/4.6.3/css/font-awesome.min.css&quot;/&gt;\n",
              "    &lt;link rel=&quot;stylesheet&quot; href=&quot;https://cdnjs.cloudflare.com/ajax/libs/Leaflet.awesome-markers/2.0.2/leaflet.awesome-markers.css&quot;/&gt;\n",
              "    &lt;link rel=&quot;stylesheet&quot; href=&quot;https://cdn.jsdelivr.net/gh/python-visualization/folium/folium/templates/leaflet.awesome.rotate.min.css&quot;/&gt;\n",
              "    \n",
              "            &lt;meta name=&quot;viewport&quot; content=&quot;width=device-width,\n",
              "                initial-scale=1.0, maximum-scale=1.0, user-scalable=no&quot; /&gt;\n",
              "            &lt;style&gt;\n",
              "                #map_5b4479180212fbf831e0aebe84060fdb {\n",
              "                    position: relative;\n",
              "                    width: 100.0%;\n",
              "                    height: 100.0%;\n",
              "                    left: 0.0%;\n",
              "                    top: 0.0%;\n",
              "                }\n",
              "            &lt;/style&gt;\n",
              "        \n",
              "    &lt;script src=&quot;https://cdn.jsdelivr.net/gh/python-visualization/folium@master/folium/templates/leaflet_heat.min.js&quot;&gt;&lt;/script&gt;\n",
              "&lt;/head&gt;\n",
              "&lt;body&gt;    \n",
              "    \n",
              "            &lt;div class=&quot;folium-map&quot; id=&quot;map_5b4479180212fbf831e0aebe84060fdb&quot; &gt;&lt;/div&gt;\n",
              "        \n",
              "&lt;/body&gt;\n",
              "&lt;script&gt;    \n",
              "    \n",
              "            var map_5b4479180212fbf831e0aebe84060fdb = L.map(\n",
              "                &quot;map_5b4479180212fbf831e0aebe84060fdb&quot;,\n",
              "                {\n",
              "                    center: [0, 0],\n",
              "                    crs: L.CRS.EPSG3857,\n",
              "                    zoom: 1,\n",
              "                    zoomControl: true,\n",
              "                    preferCanvas: false,\n",
              "                }\n",
              "            );\n",
              "\n",
              "            \n",
              "\n",
              "        \n",
              "    \n",
              "            var tile_layer_5a0b41abcefc949271485e1eb15386f9 = L.tileLayer(\n",
              "                &quot;https://{s}.tile.openstreetmap.org/{z}/{x}/{y}.png&quot;,\n",
              "                {&quot;attribution&quot;: &quot;Data by \\u0026copy; \\u003ca href=\\&quot;http://openstreetmap.org\\&quot;\\u003eOpenStreetMap\\u003c/a\\u003e, under \\u003ca href=\\&quot;http://www.openstreetmap.org/copyright\\&quot;\\u003eODbL\\u003c/a\\u003e.&quot;, &quot;detectRetina&quot;: false, &quot;maxNativeZoom&quot;: 18, &quot;maxZoom&quot;: 18, &quot;minZoom&quot;: 0, &quot;noWrap&quot;: false, &quot;opacity&quot;: 1, &quot;subdomains&quot;: &quot;abc&quot;, &quot;tms&quot;: false}\n",
              "            ).addTo(map_5b4479180212fbf831e0aebe84060fdb);\n",
              "        \n",
              "    \n",
              "            var heat_map_137ebb65648989cc2ce7e61cc4a31e8a = L.heatLayer(\n",
              "                [[36.78960900000001, -121.667321], [32.910636, -117.155613], [33.66921, -112.16697], [30.401829, -86.888671], [30.402795, -87.367788], [37.894846, -122.116939], [25.931272, -80.178292], [43.078292, -76.172666], [28.033253, -82.45500899999998], [37.34435, -121.84491], [30.26639500000001, -82.110285], [33.846583, -118.227308], [40.6238, -74.21623000000002], [27.958589, -82.504369], [26.547899, -81.85273199999997], [40.128132, -74.889539], [38.702796, -120.934209], [44.716104, -117.752462], [32.456539, -93.724609], [41.05933, -73.82860699999998], [35.478211, -81.229895], [26.372090000000004, -80.17097], [44.45502800000001, -93.292196], [36.477921, -121.728346], [40.02275, -75.03808000000002], [25.68598, -80.3939], [25.881168, -80.242938], [34.027673, -117.796944], [33.835077000000005, -117.835416], [38.279512, -122.668421], [38.860897, -121.543328], [39.202443, -76.634242], [47.23251, -122.46325], [38.99622, -121.278989], [43.02209000000001, -123.2994], [25.939703, -80.188672], [45.024729, -92.975932], [39.87878, -75.01174], [25.68611, -80.390957], [41.41087, -81.61875], [30.47456, -90.64676], [29.72676, -95.33465], [35.4796, -97.56566], [25.850891, -80.23383100000002], [29.6293, -95.52127], [39.76476, -86.2678], [34.157358, -119.076659], [28.46601, -81.28973], [35.250394, -80.898834], [30.372144, -81.761189], [34.063628, -117.296274], [37.699768, -121.789092], [34.090765000000005, -118.313173], [44.97515, -93.2871], [28.690909, -81.388463], [25.94559, -80.18654000000002], [34.133092, -117.953102], [35.84272, -78.680128], [25.88426, -80.208885], [40.916479, -73.848535], [39.001004, -119.779469], [40.88912, -74.275786], [35.1113, -80.89734], [47.74458900000001, -122.34558], [45.877368, -112.117466], [44.395204, -122.16903], [45.144527, -93.266856], [37.677279, -112.845444], [34.266253000000006, -118.972255], [34.12567, -118.22835], [33.739771999999995, -84.23066700000003], [28.356298, -80.730241], [35.57552000000001, -97.51351], [29.6506, -95.38756], [36.956252, -121.72728899999998], [38.432298, -82.188248], [44.83333, -93.163828], [25.942301, -80.30958299999998], [37.650724, -77.608037], [32.237887, -110.857802], [40.884848, -76.78817], [39.03772, -76.938727], [41.8334, -88.02566999999998], [43.175857, -77.598849], [26.35685, -80.11933], [36.17426, -115.15511], [32.837714, -97.049296], [35.152609000000005, -80.796477], [33.74451, -118.00501], [37.714271, -122.047099], [31.98099, -81.16908000000002], [35.242688, -80.983903], [34.000104, -118.171953], [26.662319, -80.174325], [35.32858, -80.94230999999998], [37.638229, -121.069284], [35.818938, -119.365049], [30.198119, -81.739563], [37.880287, -122.516709], [40.854159, -73.965693], [37.153763, -121.65116299999998], [30.433916, -91.068585], [35.375847, -118.949627], [34.224940000000004, -118.47327], [33.940103, -84.357798], [40.64759, -111.90231], [33.85974, -118.29428], [40.755146, -124.190622], [32.25066, -110.89312], [39.296615, -76.827958], [36.955102, -79.879722], [39.048422, -78.978399], [28.201089, -82.64831099999998], [33.727326, -117.919941], [25.731925, -80.317114], [41.098747, -74.037468], [37.990116, -120.473647], [34.07131, -118.13687], [40.73752, -73.85096], [45.64915, -120.96026], [41.92933, -87.69015], [30.57312, -87.41104], [42.77116, -87.95399], [34.420231, -117.385576], [26.512511, -81.95123199999998], [43.74749600000001, -118.072764], [34.00867, -118.15842], [32.68354, -97.4211], [28.41032, -81.47555], [36.071798, -86.57656], [39.77546, -86.27005], [38.022297, -77.498942], [47.670179, -122.32198], [29.22865800000001, -82.158511], [39.897559, -75.186369], [42.385725, -83.15415300000002], [28.608539, -81.425392], [41.23623, -95.95406], [37.7009, -121.79503], [39.748187, -75.557565], [28.206141, -82.664299], [39.67112, -104.92825], [40.909454, -74.09457900000002], [32.66362, -97.28869], [41.846419, -87.97015999999998], [35.75535, -118.427016], [38.93941, -94.60008], [38.70697, -77.223], [37.511936, -77.77600000000002], [39.36827, -94.77212], [36.764936, -119.781559], [39.01122700000001, -77.064322], [42.1875, -87.989456], [27.96105, -82.54594], [42.857068, -123.247355], [25.626388, -80.41311400000002], [37.84422, -81.232835], [37.322766, -122.050086], [45.010331, -93.198426], [47.13146500000001, -104.921804], [30.245633, -81.514411], [34.072742, -117.784012], [37.066775, -121.218262], [29.520588, -98.512962], [29.938145, -90.103124], [41.810505, -124.111406], [34.08353, -81.073987], [30.458961, -84.36089100000002], [33.945474, -118.300251], [30.327645, -81.529115], [39.221352, -76.654969], [39.752751, -86.220349], [38.87677, -76.97783000000003], [45.11675200000001, -93.197878], [34.029546, -118.067458], [34.120852, -117.87979], [27.29997, -82.497632], [39.042962, -94.662407], [33.724231, -78.84574], [34.200278999999995, -118.18779], [38.02554, -84.49098000000002], [42.11528, -75.89308], [40.048255, -76.255868], [32.810951, -96.806675], [40.88447, -121.658], [37.724691, -122.40154], [34.318875, -112.123321], [32.9244, -96.76822], [37.98069, -122.042276], [40.4063, -74.54696], [38.41992, -78.83766], [33.298869, -117.464472], [35.103518, -80.98904], [37.289864, -120.321093], [30.390277, -97.722121], [41.69973, -92.72724], [33.772219, -84.390374], [37.696462, -121.068734], [29.64838, -82.40952], [39.28021, -76.47826500000002], [39.312092, -120.14238799999998], [35.26690100000001, -119.038271], [26.708328, -81.728379], [36.474473, -119.887125], [35.10549, -106.643811], [34.857909, -117.083914], [37.68672700000001, -122.128752], [29.625524, -95.284064], [44.689166, -121.153581], [41.03011, -81.40292099999998], [37.999101, -120.263782], [33.944352, -117.295585], [42.49217, -83.50809], [30.37311, -87.17702], [34.860091, -118.162646], [38.954324, -77.583427], [26.8911, -82.02351999999998], [43.871138, -70.328829], [33.792495, -118.20748799999998], [37.630183, -77.37276999999997], [40.058712, -75.406386], [33.082956, -80.109474], [38.612, -90.21146], [42.90931, -85.67683000000002], [34.081720000000004, -117.707184], [40.242911, -79.576844], [25.86988, -80.38447], [38.135594, -77.509478], [40.272202, -77.045179], [39.348681, -77.42595], [33.928939, -118.280708], [38.810086, -77.48990500000002], [33.892299, -118.104548], [26.475393, -81.79491800000002], [38.859804, -77.335154], [37.474491, -120.83068], [36.518117, -119.628956], [33.97375, -118.38159], [37.690511, -122.078223], [30.277605, -97.63861], [35.06145, -85.135935], [36.03607, -79.79023000000002], [45.248341, -112.644573], [35.23817000000001, -80.79975], [34.095704, -117.473475], [37.492279, -120.762088], [27.840175, -82.73690699999999], [45.389467, -122.408054], [36.04543, -80.25994], [30.238448, -82.30277099999998], [41.25106, -73.19469000000002], [37.297994, -121.770273], [34.062299, -118.248635], [33.77344, -117.48507], [29.953926, -90.082679], [38.90842, -94.77624], [29.69649, -95.292189], [32.899181, -117.116528], [30.499776, -91.141077], [38.61909, -90.28509], [28.20261, -82.666588], [33.865278, -92.015974], [43.662869, -116.389725], [47.56619, -122.18278], [46.010952, -92.88498], [25.781608, -80.316807], [37.58581, -122.051591], [34.068639000000005, -117.974155], [28.426546, -81.475095], [39.269093, -76.559234], [25.596358, -80.419146], [38.807535, -77.135644], [38.340622, -121.334499], [38.23439000000001, -122.10477], [44.897299, -92.862511], [40.317726, -75.344161], [37.66977, -122.46589], [32.80792, -96.875705], [38.604981, -121.400163], [33.077155, -96.685555], [30.1106, -97.80773], [41.826025, -71.422067], [39.92719, -86.25676], [33.882197, -117.623318], [33.41107, -111.99025], [37.69552, -122.075448], [41.889747, -87.917811], [38.10354, -122.51401], [36.83685, -76.09631999999998], [47.502855, -122.276984], [33.55314, -112.14292], [37.563009, -77.44345600000003], [39.466719, -121.519861], [37.552026, -122.512169], [29.79, -95.3719], [41.62877, -72.16013000000002], [46.697904, -113.42688], [42.309305, -122.846245], [28.346805, -81.651224], [36.05242, -90.404425], [44.986123, -93.288581], [34.159387, -118.463084], [42.087316, -87.867126], [34.048533, -117.549707], [36.32673, -119.21281], [32.67731, -97.07223], [34.003772999999995, -118.280919], [33.88506, -117.633526], [34.878271000000005, -82.360279], [43.662984, -116.468468], [40.900951, -74.149914], [34.024347, -117.559965], [37.694587, -122.143773], [45.522671, -118.441116], [32.401589, -110.995866], [37.69053, -122.07805], [45.674611, -122.55257], [25.732533, -80.361767], [37.320491, -120.53956200000002], [35.844343, -79.622608], [42.56589, -85.25901999999998], [44.94543, -122.99015], [43.635739, -123.21735], [43.59718, -116.33549], [29.88732000000001, -95.41219], [37.49028, -121.94523], [41.23196, -96.08677], [39.84798, -75.09573], [37.242012, -119.734391], [45.25764, -93.01972], [41.37629, -73.63447], [43.04706, -76.20434], [35.350216, -84.746872], [34.362262, -117.433151], [36.789949, -76.11407700000002], [27.938793, -82.285751], [25.963024, -80.15508100000002], [44.705556, -122.804405], [37.413378, -122.081749], [40.502332, -104.991563], [27.594879, -81.990499], [25.946021, -80.16289499999998], [40.02459, -86.44617], [33.52368, -84.50349], [29.950721, -90.133984], [34.059629, -118.444598], [44.195918, -93.599212], [39.754548, -105.145563], [33.640264, -112.089305], [37.639575, -120.907045], [36.916434, -76.267176], [39.3467, -76.49346], [37.784877, -122.39266], [38.557892, -121.386315], [46.110036, -123.922059], [44.789253, -95.158628], [46.4016, -95.02376], [28.368340000000003, -81.513072], [39.923572, -77.766428], [29.626785, -95.507254], [33.917269, -117.985578], [25.521057, -80.48181899999999], [44.03064000000001, -92.49035], [45.08314, -93.40231], [43.088368, -76.348789], [34.667017, -118.763219], [39.071738, -94.522368], [38.089803, -122.230828], [34.147022, -118.781064], [40.47471, -74.4077], [34.154244, -117.350659], [25.85816, -80.208], [33.944228, -118.010094], [28.462190000000003, -81.45852], [37.882584, -78.713468], [26.488128000000003, -81.444772], [33.18708400000001, -117.27798500000002], [33.82962, -84.34096], [40.74092, -73.837298], [25.596022, -80.363793], [35.55462100000001, -120.729235], [35.383467, -119.252093], [34.067648, -117.579942], [36.058719, -86.649869], [37.49189000000001, -121.91919], [26.115259, -80.169067], [37.43031, -122.10368], [32.865463, -96.895572], [32.91511, -96.95839], [32.481862, -80.97042900000002], [44.382178, -123.28747], [34.03325, -118.13003799999998], [32.753587, -117.202759], [25.76571, -80.372784], [37.381185, -76.759189], [28.381851, -81.50529499999998], [35.207703, -80.82426099999998], [37.99384600000001, -122.533722], [38.19534, -85.84251], [33.91176, -84.37361], [34.025346, -117.726993], [34.03693, -118.43877], [34.013778, -117.819949], [34.224940000000004, -118.47327], [33.614439000000004, -87.373589], [39.560555, -104.939292], [28.63506, -81.38766], [30.306513, -97.518636], [33.854113, -117.919862], [30.052456, -81.49745], [34.71329, -92.27019], [36.68402, -121.64708], [39.933101, -75.082752], [40.872845, -74.194805], [30.380726, -97.687057], [39.016817, -75.46185799999998], [37.62789, -122.08164], [25.92478, -80.154122], [41.028363, -123.659365], [38.803126, -77.251626], [35.798737, -78.56645], [39.030655, -77.98360699999998], [32.926905, -96.819103], [36.747862, -119.822891], [34.224940000000004, -118.47327], [32.79462, -117.15812], [34.040194, -118.017156], [46.897238, -95.365936], [34.067399, -117.571285], [38.319576, -77.471214], [37.74595, -121.58443], [32.16335, -110.95616], [37.552996, -77.443946], [37.66366, -122.10616], [38.61290200000001, -90.199782], [33.872395000000004, -117.263807], [34.077718, -117.398868], [44.840451, -93.243724], [37.80771, -122.36764], [34.005720000000004, -117.96019], [40.71834000000001, -111.88826], [38.909031, -122.605909], [25.898118, -80.21530600000001], [40.769571, -74.025692], [42.161332, -88.57153000000002], [42.619222, -83.23485600000002], [25.686453, -80.38453299999998], [38.230237, -122.258382], [45.95354, -117.26973], [33.629090000000005, -84.40042], [25.949326, -80.148812], [34.216861, -117.288231], [33.998834, -117.370822], [34.135459999999995, -117.96663], [36.883605, -76.220497], [39.122346, -76.866434], [25.060919, -80.475658], [39.61468, -77.79375], [40.85913, -74.37419], [44.978038, -93.287454], [34.03256, -84.56132], [38.714465, -121.370084], [25.679351, -80.317214], [32.80473, -86.58138000000002], [38.883351, -77.228769], [33.179537, -117.353178], [41.076765, -111.97952], [34.471276, -82.651338], [34.12104, -117.88325], [46.311731, -114.1562], [33.979504, -117.339343], [39.87201, -75.10172], [42.862589, -73.771856], [42.46165300000001, -123.316522], [34.411598, -117.589518], [44.962858, -92.756531], [37.03237, -121.94688], [30.329972, -97.605503], [30.511849, -87.280163], [34.171262, -118.505821], [38.764754, -77.19634599999998], [40.821626, -97.717103], [27.992037, -82.37015600000002], [30.472236, -97.847643], [32.727065, -96.707083], [47.192362, -121.048039], [35.79337, -78.58419], [41.13805, -111.87288], [34.21455, -119.01062], [44.99299, -93.23752], [39.055949, -76.928403], [37.597459, -121.873576], [27.412468, -82.572356], [34.067133, -117.984033], [32.669725, -96.93698], [38.98948, -122.542201], [38.556682, -121.396754], [29.878952, -95.373437], [38.14589, -122.11001], [39.77836, -104.895773], [33.95536, -87.637006], [33.480652, -112.113058], [45.04368, -93.45252], [37.938735, -122.060449], [33.99692, -117.3661], [25.879197, -80.210378], [36.049771, -119.520948], [40.880845, -111.896814], [40.095031, -76.290938], [35.3986, -119.044675], [32.990063, -117.082843], [28.534371000000004, -81.28564], [45.151031, -122.660873], [38.965991, -94.723629], [42.964426, -85.687507], [34.030141, -118.409453], [32.716033, -117.119993], [37.623624, -122.4278], [36.97509, -121.886225], [37.952338, -122.195863], [44.56394, -123.23693], [33.178594, -117.352406], [40.577953, -75.894042], [25.796846, -80.339247], [35.606828, -83.00895], [34.73997, -86.60096], [45.49195200000001, -122.792388], [37.7719, -122.432103], [35.21154, -80.6867], [39.55896, -77.612892], [33.128718, -117.113367], [39.48184000000001, -77.39662], [39.77338, -105.17062], [34.031209000000004, -118.262985], [37.36408, -122.1243], [36.362682, -119.809723], [25.92474, -80.29673000000003], [32.424168, -93.69453], [36.972111, -120.073494], [33.709731, -117.781731], [30.457943, -91.039698], [30.351322, -81.668524], [41.83723, -87.70482], [41.738466, -72.62901600000002], [33.91063, -117.449469], [45.55934, -94.341415], [35.11067, -111.03604], [32.873829, -96.683024], [40.962706, -73.853026], [45.407412, -122.570056], [33.50184, -112.04377], [41.05211, -81.66210699999998], [37.066263, -76.428065], [32.871632, -80.010965], [34.218786, -84.633615], [43.03212, -87.96091], [41.77998, -87.63061], [40.138427, -75.31581], [39.26321, -76.567739], [34.07785, -118.28494], [35.445959, -118.91603700000002], [28.49145900000001, -81.417315], [35.12124, -103.25393], [36.15083, -86.749881], [39.35848, -76.48262], [25.869846, -80.343828], [43.24524, -89.37493], [33.855811, -117.875843], [32.75713, -117.22317], [37.261236, -77.483772], [38.76538, -121.255754], [35.112103000000005, -85.140149], [40.39245800000001, -75.507139], [37.554284, -77.411116], [34.028576, -117.810573], [34.098859999999995, -81.1721], [25.93544, -80.21656999999998], [34.493408, -79.417236], [38.437882, -122.806711], [33.998401, -118.368141], [25.785266, -80.249923], [25.930789, -80.20546999999998], [47.57742, -122.57427], [34.154171000000005, -118.34507], [28.080545, -81.966334], [37.672859, -122.467495], [25.68526, -80.41646999999998], [33.92102, -118.178229], [41.07980300000001, -73.921806], [33.866240000000005, -117.71661], [38.52252100000001, -121.311133], [30.178218, -97.838736], [35.24253, -80.77991999999998], [30.273584000000003, -97.771711], [33.409048, -80.502587], [36.853197, -80.862818], [26.335587, -81.806455], [32.792759999999994, -97.32167], [40.055928, -75.646351], [25.946316, -80.15878199999999], [42.12963900000001, -122.631183], [32.809057, -79.94945], [36.577422, -121.908786], [37.207506, -121.720243], [33.932302, -117.55629], [37.38338, -121.96903], [33.437151, -112.187377], [46.75097, -92.10215], [35.091201, -106.553789], [40.75471, -73.54959000000002], [33.72136, -112.11939], [39.359045, -77.171971], [38.796723, -122.554617], [36.616905, -121.572915], [45.85183, -68.42718], [39.956798, -76.722551], [35.29356, -80.74016999999998], [38.794103, -121.724483], [34.110665999999995, -117.198988], [38.73636, -90.3337], [39.092325, -122.798246], [41.68217, -87.77852], [45.49286, -122.6736], [33.552149, -112.1083], [28.5169, -81.38731999999997], [33.752135, -117.455359], [40.999432, -73.831539], [32.753422, -79.972352], [40.762678, -73.843327], [33.388248, -91.309202], [33.618412, -111.891474], [28.064745, -82.353163], [30.255396, -82.901077], [25.90497, -80.227177], [45.61295, -122.67813999999998], [32.7725, -96.62363], [40.81116, -73.93122], [29.625544, -95.282568], [41.98399000000001, -87.82336], [35.141023, -89.87068599999998], [38.830954, -77.397666], [33.87608, -118.12872], [41.86489, -71.51451999999998], [25.897078, -80.21114399999998], [34.900803, -82.286423], [30.44012, -91.208529], [28.83209, -81.31984], [38.140899, -121.259212], [27.78873, -82.66034], [33.98819, -118.061471], [40.259179, -120.468544], [37.359432, -77.88923], [43.17603, -124.19613], [33.984238, -117.844977], [45.66337, -121.89373], [32.65721, -97.194341], [41.842921, -88.20272], [40.715063, -74.05517900000002], [25.979529, -80.166149], [34.061846, -81.00900899999998], [38.19597, -120.680352], [37.971725, -121.241122], [34.150507, -117.322981], [40.849635, -74.075241], [30.382147, -84.800166], [38.07867, -122.23295], [45.596721, -94.042492], [38.009345, -121.319869], [32.668969, -117.111209], [34.103408, -80.832737], [36.96673, -76.294566], [26.00525, -80.16678], [26.682919, -81.89541899999998], [25.88735, -80.211279], [40.73955, -73.84695], [44.975764, -93.247192], [34.089923, -117.750338], [36.65191, -121.738834], [37.797679, -79.39343000000002], [30.701693, -81.67589100000002], [33.446228000000005, -86.82557800000002], [34.049054, -117.995722], [34.365320000000004, -118.55666], [40.16847, -120.968886], [45.761715, -119.198001], [45.84964, -119.3106], [41.858714, -76.502877], [43.13682, -89.296877], [32.441921, -93.781212], [26.984491, -80.18755300000002], [45.08717, -93.28801], [43.907601, -121.35686], [43.160577, -77.63451500000002], [40.303205, -75.89968], [37.90258, -122.51256], [30.102975, -81.502865], [40.84288, -73.82583000000002], [39.752311, -77.059988], [42.36598, -71.06029000000002], [26.391034, -80.097887], [35.310394, -120.825229], [25.634461, -80.41369300000002], [34.018846999999994, -118.177211], [37.572969, -120.935837], [41.324955, -72.383219], [34.433201000000004, -119.912778], [41.125913, -74.165858], [47.815514, -122.289751], [34.38742, -119.49473], [39.06878, -77.002973], [38.558945, -85.778973], [38.546698, -121.69429], [34.870857, -82.429412], [29.660817, -95.619117], [25.927509, -80.208166], [29.742186, -95.485374], [32.185084, -111.011711], [34.075218, -118.21883400000002], [28.08728300000001, -82.451367], [33.362634, -86.77679499999998], [36.635182, -87.330342], [45.522354, -122.685731], [35.40619, -97.56115], [25.869569, -80.197052], [28.21289, -80.71355799999998], [30.25713, -97.611798], [42.25998, -121.8747], [35.127897999999995, -82.221512], [41.743994, -73.930914], [39.846822, -74.224373], [39.016248, -77.012525], [30.184981, -97.764565], [37.34908400000001, -121.908234], [37.86397, -122.30276], [39.642587, -106.566921], [42.3042, -71.08244], [29.553877000000004, -98.587135], [30.239484, -97.879951], [40.87231, -72.61006], [38.351, -81.62091], [27.098927000000003, -82.445465], [29.451211, -81.91288399999998], [45.082291, -93.287694], [33.550175, -86.774836], [37.265625, -76.74319399999997], [37.637429, -122.098485], [29.717724, -95.522148], [30.320725, -81.720341], [32.794092, -96.705018], [36.753441, -119.781972], [33.937794, -118.098508], [27.179489, -80.316807], [42.25693, -88.14803], [40.68744, -73.61711], [33.9655, -118.08419], [26.014949, -80.16686], [30.533298, -87.273785], [34.67221, -85.309751], [41.21234000000001, -96.08795], [38.32946, -121.8233], [43.134909, -77.552899], [32.336396, -95.293185], [25.802591, -80.329132], [30.256674, -97.746322], [37.655238, -122.100646], [38.99074, -76.37165999999998], [28.458377, -81.499756], [25.883821, -80.16543], [41.74662, -87.847575], [33.89602, -117.96583], [31.744573, -106.331669], [33.88961, -84.46045], [35.849962, -78.579396], [40.846149, -73.93089499999998], [39.71421, -75.58253], [43.83278, -123.04528], [34.6286, -86.93431], [40.931375, -74.070649], [36.894606, -121.673957], [32.400205, -86.399749], [35.205575, -80.759028], [36.749793, -119.934187], [26.51991, -80.0727], [37.696562, -122.090797], [28.604863, -81.47615], [28.188677, -81.499821], [43.054437, -76.11761700000002], [41.308003, -73.032978], [38.477566, -121.408711], [35.090581, -85.32390500000002], [44.980294, -93.244733], [37.061308, -76.433115], [42.423244, -122.851642], [32.799653, -96.675739], [39.32312, -77.35644], [40.752622, -73.944665], [41.98353, -87.81836], [39.871485, -75.102027], [35.740611, -78.66980799999997], [36.07394, -79.766503], [41.56822, -87.35028], [43.075901, -123.35988799999998], [39.120931, -121.575816], [32.89302, -96.700295], [34.105092, -118.717714], [26.07294, -80.16705], [32.443764, -93.767326], [34.890421, -79.0743], [44.861172, -95.632062], [42.008082, -93.434896], [47.605389, -122.332259], [47.84466, -122.25858999999998], [33.75692100000001, -86.829735], [33.78269, -84.49571], [30.85272, -93.271041], [35.089728, -85.218025], [33.868621999999995, -117.760357], [33.775051, -118.040998], [44.726048, -92.852489], [44.191819, -94.178874], [45.477337, -94.034027], [38.811082, -77.487421], [33.78134, -117.21242], [34.809913, -82.232793], [38.59524, -123.3458], [32.673801, -117.082811], [34.067483, -117.545259], [32.78864, -96.76414], [45.47458, -122.56535], [37.847589, -79.468113], [37.830047, -121.217211], [37.70201, -121.91683], [38.488206, -121.39033700000002], [26.199055, -80.148535], [42.404974, -83.138551], [33.58215, -111.9435], [25.862737, -80.18525600000002], [39.096244, -94.566021], [35.079246999999995, -81.637568], [33.89275, -117.88081], [29.745301, -95.364536], [32.928490000000004, -80.04394], [38.489101, -78.591037], [38.35384000000001, -78.929525], [37.70084600000001, -121.816308], [28.299161, -81.605855], [42.694727, -73.844014], [38.010156, -79.163389], [30.439645, -91.200141], [39.86027, -75.15409], [39.442216, -76.343983], [29.716088, -95.538889], [34.153313, -118.361557], [33.395501, -111.939624], [38.6344, -90.45028], [34.177051, -119.122722], [33.81896500000001, -84.361912], [38.9602, -92.25714], [32.954225, -117.101741], [38.818441, -121.18687], [37.822787, -122.300449], [36.267156, -94.150353], [26.323724, -80.11636999999997], [37.380633, -78.063716], [30.181806, -81.628835], [36.468098, -121.712925], [34.905101, -82.420139], [40.211921, -76.87294200000002], [33.951444, -80.49750999999998], [33.97476, -118.255371], [32.679651, -117.086053], [35.78426, -78.621439], [40.885788, -111.896727], [32.84863, -117.03005], [34.432851, -118.384378], [40.676729, -74.00138199999998], [39.217066, -83.912098], [33.9411, -117.2488], [33.86612, -117.765042], [25.768456, -80.37499], [30.39602600000001, -81.667932], [33.616901, -84.438441], [47.087146, -122.648518], [28.022582, -82.45174300000002], [34.030277000000005, -117.660498], [45.50316, -122.67456], [39.128311, -77.203685], [32.867799, -96.683024], [25.69539, -80.32951], [36.071974, -86.769438], [38.276293, -122.047378], [43.146265, -77.592265], [34.057735, -118.241354], [25.442656, -80.483284], [35.952046, -80.529358], [25.840735, -80.33488100000002], [39.796095, -84.189063], [37.30128, -121.81475], [37.374788, -77.451362], [27.893773, -82.33285699999998], [32.355311, -90.241565], [27.493794, -82.488721], [25.80545, -80.32104], [44.86225, -93.24403], [37.89195, -122.15255], [35.798417, -78.560485], [42.67033, -84.49024], [29.748429, -95.36971], [40.10986, -82.98507], [38.543854, -121.47375900000002], [41.097535, -74.040214], [43.59643300000001, -83.894194], [25.767246, -80.238989], [32.898491, -96.715193], [35.79892, -78.71968299999997], [44.099075, -121.301598], [42.974277, -77.17939399999999], [42.293345, -88.160288], [39.59505, -104.848], [25.652265, -80.4156], [38.124395, -79.043247], [47.42997, -122.27283], [32.359502, -95.304599], [33.77758, -84.39076], [25.921299, -80.309179], [39.105094, -94.76445], [39.290892, -119.536094], [33.687755, -117.899834], [43.00901, -71.388261], [38.641605, -121.401516], [42.29272, -71.48461999999998], [30.224128000000004, -81.57321800000003], [33.492387, -86.820153], [33.923342, -118.103681], [34.63986, -120.493143], [47.52361, -122.33327], [42.60241, -114.45315], [40.256774, -75.586462], [34.048784000000005, -118.435972], [34.021732, -118.426171], [45.48912, -122.821678], [36.23313, -119.798381], [34.593238, -118.149848], [35.33886, -80.83421], [33.75439, -118.29127], [25.669776, -80.416237], [45.516906, -122.667076], [41.350541, -74.870238], [41.098748, -74.03745500000002], [37.858829, -121.281403], [34.020212, -117.814998], [33.008154, -117.261961], [34.12056, -117.73633], [34.054262, -118.004172], [34.033511, -118.221915], [35.41227, -119.0416], [27.78812000000001, -82.717365], [34.12871, -117.93862], [37.641874, -122.405883], [34.004016, -80.442144], [42.007823, -93.570794], [30.47456, -90.64676], [40.056617, -120.131056], [41.001201, -73.652397], [42.083873, -121.680354], [33.936501, -117.120221], [37.797117, -122.25205], [33.467079, -117.669601], [30.139532, -84.38614100000002], [36.758719, -76.341215], [30.19445300000001, -97.789502], [34.133203, -117.986352], [41.98645, -71.54883000000002], [33.62892, -117.665424], [34.030415000000005, -117.616147], [40.71759, -112.0952], [33.86322, -117.53919], [44.34439, -121.99566000000002], [27.856196, -82.326554], [34.081825, -80.89075799999998], [36.967334, -76.414987], [26.017094, -80.167397], [34.02411, -117.77095], [37.589156, -122.054246], [33.674813, -79.00542], [34.917714000000004, -78.94985600000003], [34.068165, -117.977818], [47.10116, -114.043466], [37.510124, -122.344018], [34.1237, -84.74075], [40.109163, -74.134422], [32.6611, -97.2699], [34.430138, -117.37783799999998], [33.520244, -86.834701], [25.813975, -80.321621], [25.654473, -80.41564], [42.23779, -87.99409399999998], [33.076763, -117.169937], [37.36789, -77.41735], [36.851309, -119.786435], [35.640556, -119.218333], [30.450617, -86.63860799999998], [34.738844, -82.333425], [33.523393, -117.557136], [39.297894, -121.595013], [41.180615, -79.76788499999998], [35.017492, -81.827993], [33.66892, -112.07623], [25.912984, -80.22], [33.68543, -85.15809], [29.7624, -95.37249], [29.867446, -95.406162], [25.898669, -80.30994100000002], [34.087195, -117.664149], [27.940882, -82.327283], [39.686949, -77.732924], [39.097048, -94.623881], [36.247714, -86.74291600000002], [34.909654, -118.924158], [32.85557, -96.77053], [25.625151, -80.41441400000002], [28.20487, -82.666005], [34.019110999999995, -117.502588], [29.65218, -95.38712], [26.16487, -80.22398100000002], [38.841894, -77.43124300000002], [26.667269, -81.888535], [30.625557, -85.712295], [34.00995, -117.963167], [32.664262, -97.242621], [25.747836, -80.3315], [25.890198, -80.188048], [34.052498, -118.25932], [33.990386, -117.907183], [34.06776, -117.53934], [36.996441, -120.102217], [34.069959999999995, -118.2617], [35.33045999999999, -80.91656], [30.40414, -91.0973], [40.175531, -75.307914], [28.369602, -81.360148], [38.55794, -121.38579], [27.485511, -82.4462], [42.953404, -78.766233], [36.056461, -119.148776], [33.792097, -117.890152], [33.758326000000004, -84.473022], [25.766614, -80.263467], [30.623369, -81.537442], [27.748323, -82.692014], [38.803163, -77.099744], [25.883587, -80.21260600000002], [40.255207, -75.720986], [40.20541, -76.87337], [35.107456, -118.524457], [32.744717, -117.187508], [41.88183, -87.74531999999998], [45.533049, -122.56447], [32.226240000000004, -110.9815], [35.964335, -119.28175], [45.15707, -92.99408], [39.821722, -89.73146], [39.73385, -84.9277], [45.19256, -93.0728], [34.208274, -118.40663], [28.494552, -81.395985], [32.671184999999994, -97.11487], [26.222284, -80.136524], [30.171587, -97.627587], [40.65406, -74.00782], [46.088921, -122.934847], [33.84145, -118.28613], [35.843656, -78.682802], [39.992691, -75.590389], [33.6026, -112.29004], [36.98372, -122.064883], [45.060223, -93.150065], [25.866297, -80.24238199999998], [36.089949, -95.868607], [32.748691, -97.319032], [34.818698, -82.2768], [36.11608, -95.90163], [39.871927, -76.228426], [43.122189, -77.647745], [43.000644, -83.6455], [25.900002, -80.211438], [35.77571, -83.09819], [28.464031, -81.45875799999997], [28.566974, -81.209623], [33.124683000000005, -87.550265], [32.770021, -117.13981499999998], [33.073085, -96.687422], [35.209578, -80.918334], [38.437409, -121.172042], [34.894507, -120.422957], [33.342655, -111.972122], [42.38184, -83.51828], [30.267093, -97.73933], [28.113077, -80.706073], [33.364089, -117.062598], [36.18061, -86.79632], [32.698991, -96.584793], [38.340525, -85.753805], [25.656385, -80.410748], [40.6745, -111.900774], [33.758104, -117.859562], [41.8509, -87.64492], [25.82219, -80.248856], [41.02727, -73.73484], [43.97395, -123.01083], [40.106362, -76.354427], [26.09479, -80.2333], [31.89866, -106.39032], [34.029398, -118.399322], [33.930997, -118.280059], [43.049014, -76.14256], [37.31938, -121.99307], [27.061825, -80.242327], [40.89899000000001, -74.63003], [37.901141, -121.59428], [34.183501, -118.39921499999998], [37.56064, -77.47126999999998], [37.452716, -77.424261], [35.127164, -118.411084], [45.16838900000001, -122.86328], [25.913311, -80.32505], [33.016844, -117.073495], [43.101967, -75.241452], [33.629779, -84.41475799999998], [32.714154, -96.749533], [36.283732, -119.331425], [29.7257, -95.47638], [44.810044, -124.061971], [25.883587, -80.21260600000002], [29.952075, -82.418527], [34.020495000000004, -118.194105], [35.695124, -83.04262800000002], [47.68601, -122.32506], [33.85018, -118.20532], [28.543626, -81.310673], [28.20867800000001, -82.66624499999998], [30.55878, -91.133224], [28.005948, -82.302521], [34.275718, -79.724659], [41.243696, -74.89096500000002], [35.22459, -80.89787], [35.754092, -78.891566], [37.318162, -121.989815], [34.067011, -117.445295], [39.30511, -84.63854], [30.228316, -97.58846], [37.89625, -122.63671], [41.107089, -73.41205], [33.924686, -118.103969], [44.9522, -93.069767], [25.845667, -80.250772], [33.374886, -117.560564], [26.67968, -81.79848], [41.751186, -72.70288599999998], [38.779064, -90.363321], [30.350826, -91.083449], [29.848061, -82.533384], [30.449329, -86.630368], [43.144959, -123.364639], [27.79914500000001, -82.7286], [29.937205, -90.103035], [38.963474, -77.178472], [33.872767, -118.202384], [37.301595, -79.536433], [43.158713, -83.83362], [40.22993, -76.44073], [40.16697, -74.646617], [27.254066, -81.31137199999998], [38.841457, -76.94819100000002], [39.78566, -105.0832], [39.306576, -123.793608], [26.265832, -80.29732299999998], [40.313178, -79.938763], [32.58031, -110.911756], [26.106294, -80.16883399999998], [35.28793, -80.85826999999998], [36.4037, -118.952715], [30.580047, -84.70509399999997], [40.313135, -75.300917], [28.94697, -80.94861], [38.634997, -121.32111299999998], [37.197616, -121.816338], [39.762212, -121.857996], [32.699255, -117.139996], [35.15283, -80.87631], [42.92657, -74.424459], [42.65725, -122.721977], [45.498536, -94.198917], [41.122909, -73.33536], [34.252235, -83.46812], [32.84619, -96.77307], [32.764241, -117.158203], [37.86397, -122.30276], [25.807442, -80.291205], [33.685464, -79.333915], [33.07624000000001, -80.19829], [27.789472, -82.623574], [40.15904000000001, -76.15265], [39.090077, -120.94946000000002], [29.708245, -95.399172], [32.473061, -93.794602], [40.73991, -73.84558], [32.201625, -110.826569], [34.013189000000004, -118.130478], [34.172083, -118.532587], [37.94412, -121.254836], [40.904341, -74.11285699999998], [36.15934, -86.772542], [42.33598, -79.58838], [41.077989, -73.921084], [41.702889, -73.946058], [41.254226, -122.14335], [37.522913, -121.946081], [34.064301, -117.809046], [34.126313, -117.201837], [47.533572, -122.269995], [32.837740000000004, -96.87542], [34.072444, -118.070604], [28.356298, -80.730241], [33.615256, -78.99499499999997], [28.441701, -81.468005], [36.187387, -95.995798], [42.993568, -76.746057], [27.938793, -82.285751], [34.100295, -117.488879], [44.926969, -93.144884], [36.18211, -80.36178000000002], [25.811566, -80.37058499999998], [42.37072, -87.94227], [41.231456, -76.73398900000002], [30.01465, -89.98614], [29.382083, -98.700719], [45.035608, -93.190647], [41.9044, -88.08154], [25.954202, -80.277518], [38.48158, -121.371953], [42.971686, -85.665341], [35.84784699999999, -78.320587], [35.035647, -120.486608], [25.78121, -80.3483], [35.191409, -80.770915], [25.744301, -80.392128], [26.54658, -81.834586], [26.22525, -80.13627], [29.964557, -90.073066], [29.16847700000001, -81.642674], [32.762807, -117.163299], [32.843653, -86.59515999999998], [37.8106, -122.248775], [34.039747, -118.440598], [34.03535, -118.328909], [37.999551, -122.076159], [39.54558, -84.16606], [37.993717, -120.383465], [36.118916, -95.92236], [45.51653, -122.66277], [43.829237, -123.031071], [27.391916, -82.533026], [34.719364, -80.765078], [43.164922, -77.688008], [32.84924, -83.62866], [37.76542, -122.40486], [43.32123, -122.8124], [38.56182800000001, -121.648254], [39.018324, -76.92094200000003], [39.83912, -75.40878000000002], [30.748216, -85.3838], [39.013597, -77.05278], [45.635402, -120.911942], [34.467524, -82.038549], [38.66959, -77.25753], [41.775911, -73.701842], [32.837928000000005, -97.108183], [38.601169, -121.505447], [28.575144, -81.476011], [28.34569, -81.38237], [38.84737, -77.42849], [35.895553, -78.617942], [37.08687000000001, -94.477127], [30.204169, -85.62026800000002], [29.82242, -95.37922], [37.421143, -122.092497], [43.545716, -73.823554], [39.905658, -86.04549], [35.372266, -118.95528600000002], [34.085783, -117.099217], [32.235985, -110.961034], [33.876325, -117.575243], [25.759982, -80.33601999999998], [45.01179000000001, -93.054295], [37.955475, -122.053396], [25.858295, -80.225792], [32.813395, -117.221274], [43.107518, -123.531185], [40.71487800000001, -111.784942], [32.7599, -97.131742], [37.985531, -122.524451], [43.254313, -75.70008399999998], [42.276944, -84.36203499999998], [44.861737, -93.274751], [38.536466, -85.77645799999998], [25.933067, -80.291786], [43.03551, -87.90853], [35.709777, -78.65681500000002], [39.030271, -94.360874], [34.423716, -112.57336], [32.710879, -97.23007], [41.002553000000006, -73.856459], [25.743364, -80.30841099999998], [44.95789, -93.09056], [27.710766, -82.335167], [32.66261, -97.24487], [35.67476, -81.9467], [31.550888, -97.123037], [40.800021, -73.92697700000002], [33.799640000000004, -117.50303], [45.560742, -122.563405], [29.45454, -95.08154], [42.962175, -88.025779], [33.75602, -117.83124], [41.805645, -88.088252], [39.58757, -77.815845], [36.936775, -121.827124], [37.892361, -122.307306], [41.68675, -87.6011], [40.900241, -73.07927099999998], [34.319583, -113.134042], [29.606614, -98.527895], [44.709074, -123.033654], [34.120317, -118.271191], [33.840361, -84.314888], [33.885881, -81.136981], [32.69737, -117.13739], [44.26209, -121.141775], [34.094752, -118.205967], [44.954325, -93.187364], [30.20111, -97.76173], [33.695392, -84.404615], [30.005294, -90.02399799999998], [44.95173, -93.081632], [25.765119, -80.386814], [39.305342, -122.200795], [29.945136, -97.881392], [34.351234000000005, -117.526992], [35.568119, -120.700639], [29.554821, -98.485919], [38.55698, -121.47311], [45.428251, -122.336968], [30.48307800000001, -91.166244], [35.900405, -78.80136800000002], [29.26168, -82.19138000000002], [40.82257, -73.88553], [28.574376, -81.45206400000002], [29.778435, -95.41361], [34.066466, -117.509765], [29.729413, -95.44645], [25.787519, -80.32090500000002], [40.290546, -79.46400799999998], [35.146840000000005, -80.89619], [42.29426, -71.7998], [44.78736, -122.683756], [37.693932, -122.08636], [44.952288, -93.034468], [34.03006, -118.44154], [43.602472, -95.174356], [34.878559, -82.209886], [47.16109, -122.46748], [25.947192, -80.154978], [36.169357, -86.670326], [32.366664, -86.271259], [43.20955, -77.69359], [41.146951, -96.167198], [34.11901, -117.517086], [37.89715, -121.2914], [45.37205, -122.590925], [31.39438, -89.609905], [34.002052, -117.930643], [34.663723, -118.76047], [28.78636, -81.35491], [36.01959799999999, -95.886611], [33.940102, -117.397318], [45.50685, -122.682712], [33.91435, -117.88273], [40.026487, -76.55753], [40.823339, -73.347465], [28.357378000000004, -81.494599], [38.022297, -77.498942], [32.784415, -96.809602], [28.487008000000003, -81.415501], [34.110517, -118.334407], [47.543648, -114.155858], [38.581314, -121.463473], [44.424166, -119.263284], [39.17636, -76.63606999999998], [34.06131, -118.249852], [40.782011, -74.20124100000002], [33.647521999999995, -78.975513], [33.907312, -81.223177], [42.401167, -83.21715999999998], [33.563914000000004, -112.130762], [32.456558, -93.805862], [43.03557, -87.93261], [37.506539, -79.876832], [33.760659999999994, -84.4845], [29.776969, -95.381236], [33.566894, -117.180743], [35.575732, -120.697377], [33.282733, -111.799107], [40.82393, -74.12556], [42.80146, -123.25313], [34.084084999999995, -117.300177], [33.996044, -84.560061], [41.38037, -77.06169], [45.281206, -93.746545], [30.40987100000001, -97.648441], [34.106709, -118.328543], [47.570635, -122.292273], [36.178612, -86.80834200000002], [40.0373, -75.24707], [38.719499, -76.98985400000002], [29.9404, -90.07199], [36.890705, -76.428051], [28.282302, -82.697133], [38.003464, -121.835484], [28.412147, -81.423594], [33.509653, -112.21133], [38.660073, -77.013712], [30.618263, -86.96271999999998], [36.110011, -86.770309], [28.43991, -81.470821], [25.572426, -80.391991], [33.96002, -118.283563], [35.889789, -78.562477], [37.99405, -122.03914], [37.775739, -122.393411], [38.440184, -122.70347], [42.946081, -115.420495], [42.04383, -87.82956], [41.160273, -75.95614499999998], [38.652212, -77.316621], [26.282679, -80.125036], [37.309742, -121.898263], [42.3493, -87.87418000000002], [41.813074, -71.87106700000002], [30.555640000000004, -91.59935], [46.909335, -95.329152], [37.45141, -121.89305], [35.152077, -85.282348], [34.061661, -117.190808], [42.92044, -123.275967], [36.84621, -76.1957], [45.114549, -123.206207], [34.06389, -117.81483], [37.504108, -77.08574300000002], [45.293559, -122.949527], [35.138020000000004, -80.90762], [34.068961, -117.606414], [33.030445, -111.774489], [35.797551, -78.562925], [36.577842, -121.730074], [37.992591, -122.039625], [37.702084, -121.823269], [38.5786, -77.31224], [38.41879, -120.55902], [36.177556, -86.773126], [41.271748, -72.971114], [33.772219, -84.390374], [33.87706, -118.10998], [40.626765, -74.179998], [36.601159, -80.737303], [35.89043, -78.561738], [36.127173, -86.850535], [38.574915, -121.551891], [39.29554, -76.90165], [44.97343, -93.28737], [39.726137, -86.13438199999999], [25.720163, -80.38369], [40.30312, -79.009251], [39.06204, -94.49631], [37.492064, -121.947898], [37.775169, -121.320508], [39.77834, -104.895417], [39.888406, -86.269251], [36.808291, -119.812935], [36.021961, -119.026229], [41.959188, -122.594738], [34.02902, -118.39637], [35.30993, -80.83882], [38.393684, -120.763434], [27.462495, -82.621558], [41.724299, -72.670927], [25.926042, -80.149909], [43.62881, -116.354348], [33.46216, -112.0236], [33.738927000000004, -84.391764], [30.45884, -81.63434000000002], [34.387322, -80.154623], [34.489739, -118.619076], [36.89728, -119.79287], [32.77547, -117.134486], [42.97244, -85.789771], [29.223185, -82.153182], [40.684124, -73.72634599999998], [41.557213, -72.924274], [29.72979500000001, -95.447479], [38.64327, -90.18924], [32.271962, -110.978999], [37.25612, -121.871], [44.441692, -95.127749], [36.948551, -120.047973], [44.88705, -93.33366], [25.733831, -80.335894], [43.59373, -116.36572], [34.02368, -118.164018], [36.569055, -121.785564], [26.136734, -80.1695], [41.06995, -74.05358000000003], [34.01158, -118.41809], [27.041857, -82.300062], [34.74067, -92.321477], [34.036935, -118.30021200000002], [40.503147, -122.423046], [37.936582, -121.298659], [25.770974, -80.33639699999998], [25.881657, -80.35433499999998], [33.933886, -118.279873], [34.022806, -117.33662], [34.06651, -117.243395], [34.317289, -118.440782], [36.20352000000001, -86.7766], [40.72412, -74.22946], [41.624884, -72.71870899999998], [40.14366, -75.11564], [37.63917100000001, -122.089956], [30.38276500000001, -81.67250200000002], [27.432440000000003, -82.575462], [25.882806, -80.24524699999998], [39.322307, -120.603847], [38.440039, -120.076675], [33.545095, -80.585657], [37.844073, -122.29764], [42.976132, -85.68679300000002], [32.87999600000001, -96.803944], [39.628624, -105.01047], [41.078459, -74.663389], [25.883468, -80.122384], [38.3231, -111.52981], [34.528927, -117.39945], [27.850425, -82.81168000000002], [33.873001, -117.690233], [34.351473, -116.846575], [33.809126, -117.297816], [40.726368, -73.766366], [37.66649, -77.557263], [40.783242, -73.623419], [37.234173, -77.395746], [41.039441, -78.394002], [33.928495, -80.964585], [38.66268, -90.35871], [26.508879, -81.95595], [34.760147, -117.158203], [33.77453, -118.07979], [33.850297999999995, -117.875895], [38.02296, -79.1406], [44.874768, -93.044992], [48.040495, -114.074602], [37.4997, -77.53426], [47.58399, -122.176979], [36.43326, -120.39216], [36.622184, -119.679747], [32.23612, -110.883303], [35.752705, -78.62785600000002], [36.987356, -121.98793899999998], [33.935405, -118.280342], [42.34584, -122.87502], [33.446577000000005, -112.169133], [30.433946, -91.057488], [36.18487, -86.40129], [34.037216, -118.307332], [27.038074, -82.219825], [34.16085, -118.47093], [30.536716, -87.337912], [43.65607, -84.24199], [34.386728999999995, -117.412126], [29.396141, -98.516474], [34.142099, -80.948747], [36.789434, -121.668081], [41.038082, -111.938486], [33.197861, -117.124632], [39.988242, -75.207274], [34.06927, -118.04526], [35.586075, -117.690318], [25.955269, -80.205545], [40.685681, -122.146248], [36.762955, -76.359436], [48.306573, -114.335993], [42.967187, -83.67116], [30.435379, -83.487843], [45.07444, -93.32008], [38.223919, -122.258066], [45.06866, -93.26333], [33.960014, -118.280502], [42.4662, -88.017263], [33.717502, -117.792395], [39.0515, -76.84142], [37.801766, -119.040833], [45.593723, -122.511044], [35.29919500000001, -80.726814], [36.34583, -86.92681], [44.958575, -120.891848], [45.486605, -122.566303], [27.859587, -82.326718], [36.179029, -86.773689], [32.833255, -97.215974], [37.99422, -122.29649], [45.01039, -93.1626], [40.57033300000001, -74.252178], [40.808814, -73.219951], [25.80772, -80.313141], [34.002995, -117.380554], [43.53894, -91.9497], [30.95285, -85.402431], [25.928067, -80.19905200000002], [40.497966, -74.434496], [34.044604, -118.009887], [33.805691, -118.081313], [34.098846, -118.31484], [34.03021, -117.67828], [43.043437, -71.474714], [39.48463, -77.24669], [38.582141, -121.383068], [30.652817, -91.177403], [45.306538, -93.628318], [28.334888, -81.298535], [44.658898, -93.670302], [25.924424, -80.31085300000002], [39.608245, -106.080319], [41.497207, -95.227537], [33.99406, -117.90519], [32.779387, -117.109926], [41.574143, -87.48562199999998], [28.615882, -81.47612099999998], [29.704046, -95.412232], [40.052598, -76.376953], [44.94922, -95.574585], [40.70767, -73.81918], [38.941587, -76.91166700000002], [41.33321, -72.877096], [30.185, -81.55794], [37.26003, -121.96903], [34.160073, -118.469604], [35.06255, -106.63868], [38.743387, -121.170604], [28.357818, -81.504859], [29.683195, -95.497674], [40.388542, -76.64155799999997], [40.056684, -76.292867], [28.56698, -81.20925], [41.763748, -87.900025], [45.610489, -121.123603], [36.04456500000001, -78.817645], [44.326745, -117.277655], [37.797224, -79.393637], [25.711094, -80.382351], [41.686804, -88.030073], [37.237323, -93.313977], [37.79328, -122.26345], [41.72563, -88.03461], [34.009833, -117.711008], [41.603947, -90.667279], [25.7829, -80.221007], [30.327340000000003, -81.59795799999998], [40.263787, -111.668697], [41.370209, -72.17211800000003], [39.189437, -109.041312], [39.98237, -82.94084000000002], [28.557988, -81.310879], [40.38804, -111.824809], [45.803355, -119.439676], [40.180997, -75.515906], [45.667532, -122.480743], [28.54884, -81.47591], [44.85149000000001, -93.48481], [41.87063, -87.87629], [28.199549, -80.685468], [42.629063, -73.52931099999998], [27.87903, -82.32682199999998], [30.906395, -88.200567], [33.84732, -84.48658], [45.053465, -93.121125], [33.876332, -118.091037], [30.067702, -90.390132], [33.81064, -81.00711], [33.787833, -117.831133], [39.506639, -76.165127], [39.636766, -77.496996], [33.932143, -112.68968], [46.787408, -92.095979], [28.410588, -81.475978], [40.738857, -74.071605], [43.143675, -77.549309], [38.891758, -76.955969], [33.90473, -84.47538], [25.660045, -80.416037], [40.762807, -74.024966], [39.95589, -83.37510999999998], [38.563713, -121.636483], [34.082125, -118.70455], [33.364321999999994, -117.542418], [32.713334, -117.146203], [41.798268, -123.343366], [38.685367, -86.84930899999998], [36.0637, -115.17246000000002], [38.55335, -121.43662], [28.460812, -81.498069], [43.105161, -123.361426], [40.842144, -73.928264], [41.90879, -87.66363], [33.780738, -84.391189], [40.820807, -74.129894], [45.179032, -93.116523], [41.039254, -91.968101], [43.1862, -77.63887], [39.10005200000001, -77.565118], [26.052375, -80.207516], [25.785602, -80.214287], [35.153351, -80.794064], [47.719261, -122.292094], [40.81699, -111.91889], [39.924902, -76.368976], [41.92095, -83.42447], [38.692985, -85.788883], [38.15516, -121.67645], [33.792097, -117.890152], [40.751963, -111.713973], [30.405774, -86.935441], [35.865544, -78.82109200000002], [28.552324, -81.45321], [27.812273, -82.679598], [42.38537, -83.0234], [39.20986, -76.64809], [33.66257, -114.020308], [25.689146, -80.38287199999998], [39.660368, -123.785391], [45.563467, -122.678714], [33.949063, -118.240776], [27.49576, -82.60386], [29.693925, -95.414675], [38.58948, -121.28714], [37.545919, -122.289078], [33.875589, -118.193097], [37.848986, -122.235713], [40.440805, -122.312577], [30.288868, -81.97981999999998], [40.74550900000001, -111.949084], [35.7355, -78.650336], [38.461632, -122.6438], [40.31431, -75.347728], [33.445698, -112.03749], [40.46589, -78.63331600000002], [42.06648, -88.20102], [32.610409999999995, -117.090547], [40.129458, -76.21615899999998], [29.594437, -82.065269], [35.846542, -78.628036], [34.150308, -118.23354], [32.662777, -117.109229], [37.388496, -122.157428], [44.772922, -93.30498], [34.768161, -92.33358], [37.594642, -77.566247], [42.325955, -88.144973], [40.856623, -76.559073], [40.029472, -104.818019], [40.800551, -74.465514], [33.81422, -118.176334], [33.988963, -118.38055], [30.395640000000004, -91.08635], [34.171528, -118.572508], [41.109262, -73.805776], [32.771749, -96.623013], [37.143547, -121.984998], [26.421614, -81.81140500000002], [45.66106, -94.69079], [42.391357, -122.921167], [25.743868, -80.351676], [39.260661, -78.098799], [34.120675, -117.907588], [34.030840999999995, -118.437185], [33.859770000000005, -118.309169], [42.01214, -87.69731999999998], [41.829149, -88.09476], [34.236932, -79.813463], [38.624599, -75.247561], [35.127334999999995, -80.998587], [40.74717, -73.27614], [30.744375, -87.042689], [30.436385, -91.177748], [44.92398, -92.97054], [34.129725, -117.304211], [39.862354, -75.100565], [36.881107, -76.210735], [25.442338, -80.47498900000002], [38.658167, -120.969089], [32.676845, -117.089163], [40.728247, -74.128773], [33.77427, -118.01259], [29.497, -82.29469], [37.345713, -121.843091], [33.75669, -83.69993000000002], [33.951058, -117.551679], [39.367994, -119.763368], [38.138305, -120.454491], [39.34326, -80.22107], [37.799717, -122.223812], [41.903249, -88.111491], [35.302068, -97.489841], [27.964245, -82.435507], [40.719311, -112.142667], [39.74704000000001, -84.16261999999998], [43.33164, -73.66582], [45.62713, -121.21432], [37.964579, -121.742949], [38.343025, -109.207373], [40.752096, -73.8976], [34.16799, -118.30098999999998], [36.1714, -86.802926], [47.66829, -122.32237], [37.76131, -121.10598], [34.190047, -79.800025], [45.519821, -121.561113], [42.966391, -85.672191], [40.736727, -73.605653], [38.992052, -76.886315], [32.750995, -96.81566], [38.87826, -104.94336], [34.410542, -119.553276], [39.939223, -77.062913], [46.92391, -92.41279], [39.933, -74.96306], [38.581272, -76.05567099999998], [30.67339, -88.12715], [34.263395, -117.844426], [39.521352, -77.60026500000002], [41.501852, -87.31990400000002], [44.76493, -91.41981], [38.889806, -76.92518299999998], [35.77077, -78.739542], [29.798279, -95.522968], [36.69246, -119.7364], [30.356007, -97.684303], [36.234165, -86.72041999999998], [28.48839000000001, -81.28546999999998], [32.672449, -96.985234], [45.736248, -111.066582], [39.160685, -94.635169], [28.510669, -81.494597], [30.441814, -91.172073], [32.907909000000004, -96.898097], [38.653781, -121.272409], [32.799239, -117.252411], [34.068869, -117.839455], [43.13822, -77.54044], [35.311095, -80.712141], [47.501012, -92.514262], [39.438113, -75.97757800000002], [34.1211, -118.47972], [27.791331, -82.73060799999998], [42.872822, -117.516514], [41.640276, -93.777163], [45.09163, -93.44614], [42.9847, -85.669646], [33.743164, -117.136496], [28.48624, -81.44006], [47.6614, -122.28717], [37.70149, -121.76935], [35.61664000000001, -78.73488], [41.344674, -96.013029], [34.028255, -118.433025], [34.245961, -113.079324], [33.876414000000004, -117.545557], [33.026575, -117.273566], [37.320509, -79.87410799999998], [35.129674, -80.94159], [30.441581, -91.355384], [32.739511, -96.882473], [40.094453, -75.288103], [35.016871, -85.181905], [34.640802, -82.526045], [25.627141, -80.383572], [36.303, -94.450573], [25.764314, -80.267379], [34.270895, -119.217957], [28.331261, -82.699168], [39.89721, -75.10873000000002], [48.48681, -93.325933], [34.085494, -118.47481100000002], [37.701893, -121.898567], [40.93911, -74.12661999999997], [40.81193, -74.4466], [32.82461, -97.20561], [33.933890000000005, -79.59621700000002], [29.504781, -98.479632], [25.630878, -80.38251], [28.381294, -81.424551], [33.945481, -118.29613799999998], [41.03608, -123.669251], [34.557458000000004, -118.675844], [34.449042, -119.649303], [35.875717, -78.72068], [26.203203, -80.151317], [34.276078000000005, -118.385534], [45.833147, -119.619923], [35.99123, -86.683327], [25.890143, -80.189184], [35.889789, -78.562477], [37.381949, -77.61190699999999], [36.161331, -86.776526], [36.049333, -86.665687], [28.4705, -82.26585], [39.101466, -77.539447], [29.983502, -90.05431999999998], [28.216303000000003, -82.723422], [33.57508, -117.67168], [42.05883, -87.75726999999998], [30.404543, -97.640566], [25.809267, -80.316765], [33.236154, -87.553309], [30.350992, -83.26665200000002], [42.33514, -88.11203], [38.76877, -90.21371], [26.319047, -80.170015], [37.515842, -120.805034], [28.754404, -82.10165500000002], [42.304626, -84.995716], [42.175423, -124.358397], [35.133623, -80.853523], [35.383422, -119.119443], [35.364992, -118.957518], [39.798492, -84.219877], [33.738426000000004, -80.936477], [33.417414, -86.75349399999998], [25.73417, -80.302918], [33.914103000000004, -118.104945], [42.21549, -124.37354], [40.8046, -73.9119], [36.069005, -86.68892], [37.36529, -77.44555], [38.310623, -77.478225], [26.304455, -80.11948199999998], [44.269535, -121.185325], [32.451611, -111.193307], [45.53317, -122.62295], [43.57792, -124.18895], [29.829196000000003, -95.284493], [34.497826, -118.218663], [37.603362, -77.526282], [34.041761, -117.693877], [29.153759, -81.567709], [41.12696500000001, -73.81142], [35.073028, -120.573416], [34.35022, -118.504081], [40.152057, -74.947711], [43.962253, -92.387198], [47.323147, -92.469488], [44.952873, -93.095104], [37.858975, -121.218541], [27.821051, -82.68115999999998], [38.677427, -77.233509], [36.153947, -86.758278], [33.371520000000004, -111.8934], [34.280775, -77.923344], [28.069293, -82.45944], [43.99144, -123.00595], [25.78834, -80.20831], [25.811534, -80.35605100000002], [43.140899, -115.665006], [25.737782, -80.366934], [35.17219, -89.90491], [39.174177, -77.537405], [41.311601, -122.32078], [32.8002, -97.21224], [45.021002, -123.862216], [25.656426, -80.413329], [35.375984, -118.931871], [38.989093, -122.986875], [34.038070000000005, -118.27273999999998], [39.758261, -121.852645], [30.426261, -91.054791], [25.937937, -80.364614], [46.92193, -122.28623], [35.28943, -80.75778000000003], [46.355384, -122.905822], [37.701231, -122.022324], [27.909448, -82.796328], [38.900537, -77.223851], [33.795124, -118.151505], [25.751305, -80.311702], [44.25386, -93.95915], [39.87363, -75.041], [41.28837, -72.88675], [34.226744000000004, -118.38768799999998], [39.683575, -83.20281], [34.152247, -118.115769], [39.17027, -94.55814], [25.687078, -80.364561], [30.454591, -97.568538], [38.574922, -121.549633], [33.00408, -96.77927], [34.272859000000004, -118.390985], [32.688305, -117.163704], [32.722874, -96.826983], [33.609140999999994, -112.354871], [45.80374000000001, -119.44183999999998], [32.789533, -96.791605], [37.63917100000001, -121.247393], [34.114906, -117.977978], [37.652149, -77.611586], [36.429, -121.683308], [36.154519, -86.691705], [40.74802, -73.96818], [26.548192, -81.83929300000001], [34.013009000000004, -118.141046], [38.602218, -77.29419399999998], [33.17754, -117.22785], [40.111367, -76.455203], [28.065353, -82.738771], [34.320664, -118.495922], [40.738517, -74.217013], [35.0068, -118.95163], [36.812814, -81.599117], [34.868077, -82.234804], [40.729279, -73.474692], [25.686492, -80.38323000000003], [25.807342, -80.206037], [37.838482, -122.264258], [42.95062, -78.70363], [39.72511400000001, -105.018922], [33.956965000000004, -118.239103], [37.622809, -120.939463], [36.09382700000001, -86.875866], [40.256438, -76.83155500000002], [40.85934, -74.37775], [30.53447700000001, -87.326327], [38.550306, -121.473874], [39.243282, -94.531501], [30.07702, -95.436619], [34.727389, -82.825684], [34.149466, -118.469084], [35.026864, -85.285597], [30.380877, -87.308231], [45.53937, -122.45051200000002], [32.739963, -96.822856], [34.043561, -118.376604], [28.190535, -82.616804], [34.1921, -118.47437], [35.842281, -78.682377], [40.184049, -76.191895], [40.897189, -122.383173], [43.01836, -83.66165699999998], [35.78837199999999, -78.642606], [39.110671, -76.945927], [35.58674, -82.510182], [37.995321, -122.052842], [26.236471, -80.13637299999998], [45.404831, -122.290846], [31.353381, -89.250837], [33.852145, -118.286053], [33.45179, -82.04624], [42.631083, -123.381839], [33.876203000000004, -118.159974], [28.449924, -81.479136], [36.151055, -86.670535], [33.99581, -84.0783], [42.45817, -123.02786], [27.388188, -82.460909], [41.68721, -92.00196], [38.544, -85.77846], [38.1139, -122.564646], [25.750817, -80.335844], [28.441962, -81.47027299999998], [34.377121, -118.493999], [41.019055, -111.492204], [33.461555, -112.103724], [26.333428, -81.806251], [33.189386, -87.30550600000002], [39.757942, -75.269304], [26.623184, -81.862061], [41.138922, -111.834953], [28.49930800000001, -81.483637], [34.907045000000004, -82.36577], [44.87891, -122.99941], [39.827958, -75.82833000000002], [32.361521999999994, -95.317572], [26.66354, -81.88460500000002], [32.154976, -110.904525], [37.804373, -77.461134], [26.597590000000004, -81.845469], [27.820321000000003, -82.679459], [27.981781, -82.545845], [34.070235, -117.962004], [33.77877, -117.88533], [43.064296, -83.468177], [40.935624, -77.78533], [35.151411, -119.056853], [28.450197, -81.405222], [33.986596, -118.415397], [47.97691, -122.19031], [38.15518, -121.67643], [34.605871, -118.14797], [25.75604, -80.32021800000003], [34.011877, -117.344787], [35.210729, -80.75893], [35.696177, -78.583708], [39.285382, -85.03528399999998], [34.065287, -118.36496], [36.060497, -95.914851], [47.70577, -122.17994], [33.69891, -84.269813], [27.857015000000004, -82.32810699999997], [34.162212, -118.469664], [38.086346, -120.53991200000002], [39.209419, -121.307005], [41.02868, -93.47021], [38.514107, -77.85185600000001], [38.77436, -77.451872], [44.796338, -122.726412], [34.027783, -118.450005], [40.60154, -74.060994], [32.735056, -96.843568], [33.77817, -117.86739], [41.85285, -71.40875], [29.008962, -81.381821], [28.115776, -82.74406], [43.980363, -121.584759], [33.762775, -117.466231], [33.529887, -86.802355], [33.994215000000004, -117.8415], [33.778876000000004, -117.888995], [35.79372, -78.64165], [28.795625, -82.087678], [30.007536, -90.266415], [26.575835, -81.67829], [34.150386, -118.280687], [28.740234, -81.36917], [46.525756, -111.71363999999998], [32.294579, -80.936611], [25.717076, -80.330822], [37.77787, -121.543864], [36.099745, -95.855698], [27.91665200000001, -82.788889], [25.747923, -80.324621], [37.572148, -121.88865], [36.23863, -86.75559], [44.79606, -122.72515], [36.057424, -95.88639], [27.495785, -82.433663], [35.391547, -77.616326], [35.157535, -81.517268], [40.75, -73.93852], [39.019178, -76.97631899999998], [39.58911, -110.81158], [41.01619, -96.15723], [34.031336, -118.192412], [34.032059999999994, -118.21963999999998], [34.038399, -117.978907], [39.84641, -75.38985699999998], [39.244204, -76.814743], [30.25576, -97.747386], [34.04766, -118.19077], [29.644503000000004, -95.495574], [43.06571, -83.76271], [33.743196000000005, -117.12781], [41.296759, -72.916935], [37.616642, -120.984294], [37.254689, -121.792392], [37.61949600000001, -93.414379], [35.092929, -118.914676], [34.18461, -118.8964], [33.732815, -117.989278], [34.03029, -117.65586], [30.266519, -97.783142], [41.49861, -93.49783], [34.037723, -81.091493], [33.825193, -118.287246], [34.018403, -117.098497], [43.77415, -70.313226], [34.056233, -118.241096], [38.88988, -76.9376], [32.797344, -96.817074], [32.927961, -96.821276], [35.05826, -106.5864], [36.344543, -119.422395], [39.69422, -105.73004], [34.106516, -118.25569], [38.900748, -77.07219599999998], [34.430309, -82.046421], [39.17410200000001, -76.727195], [32.912189, -96.736831], [37.7629, -122.40543], [39.777407, -84.18584], [40.86441, -74.00944], [34.204999, -118.196207], [41.234005, -73.56179200000003], [29.973314, -90.06501300000002], [38.938979, -94.548813], [30.588604, -88.158863], [25.78168, -80.38629], [33.928236, -118.254273], [34.03537, -118.26864], [35.24952000000001, -80.78106], [35.221964, -80.924037], [28.43366, -81.40932], [37.166392, -77.500786], [37.889442, -121.6231], [29.834145, -95.329003], [38.073441, -122.541002], [39.913062, -75.148521], [29.737192, -95.531475], [40.108766, -75.145579], [33.916428, -118.285605], [41.5698, -87.40981], [43.17243, -76.00889000000002], [44.584118, -93.297625], [39.534097, -119.772573], [37.791739, -121.577288], [33.850878, -117.889327], [35.12959, -80.94181999999998], [38.357125, -122.28753600000002], [34.286120000000004, -118.46795], [44.018302, -123.025511], [35.13465, -89.84029], [28.48275, -81.44471999999998], [33.654518, -117.759809], [28.449406, -81.40097800000002], [39.24827, -76.67709], [29.464273, -95.34759], [27.711702, -82.67943199999998], [40.80626, -72.79035], [38.763492, -76.99408199999998], [41.08214, -73.66564], [34.507601, -82.180491], [34.886149, -80.910904], [33.904493, -118.064347], [47.654006, -117.417204], [34.034113, -118.221444], [27.89379000000001, -82.684453], [42.33415, -87.85591], [40.728344, -73.92813199999998], [45.418649, -122.570074], [38.009554, -122.522087], [45.530428, -122.599023], [36.947171, -76.40475699999998], [34.04388, -117.3127], [38.31541, -122.032071], [40.4363, -80.00093000000003], [44.389797, -93.292347], [33.910796000000005, -84.216269], [40.170374, -76.191766], [42.94821, -123.327929], [36.23866, -86.78582], [40.329147, -75.97789399999998], [29.53462, -95.85668], [45.918506, -92.966555], [32.661369, -97.270784], [32.768708000000004, -117.129417], [28.452476, -81.47081800000002], [38.879467, -77.032173], [39.9623, -105.51034], [45.78042, -119.2177], [34.045719, -117.310366], [35.347617, -118.98545], [41.657705, -86.21516700000002], [37.588487, -121.870876], [37.444252, -122.269119], [25.984755, -80.165705], [25.625744, -80.38219000000002], [25.732173, -80.33572099999998], [35.37018, -80.83143000000003], [41.694569, -112.28305], [30.149971, -89.859527], [34.492923, -117.572946], [36.95983, -81.06149], [33.03938, -80.143202], [34.401103000000006, -118.457862], [44.595754, -123.06216299999998], [40.72429, -111.90703], [39.033039, -76.944133], [26.26415900000001, -80.130169], [26.015625, -80.167328], [26.651327, -81.799529], [38.610785, -121.41526299999998], [38.378226, -77.458718], [43.165636, -77.579183], [32.485209000000005, -85.640906], [25.733116, -80.338192], [32.235484, -110.855717], [39.037019, -77.414158], [45.3969, -94.02925], [40.66311, -111.93886], [34.036984999999994, -118.303538], [34.987775, -110.015448], [28.69334000000001, -81.38875999999998], [42.257419, -83.534213], [34.02425, -117.3353], [45.46443, -122.69732], [41.429175, -93.107875], [39.420694, -76.644841], [40.767544, -74.045865], [38.692738, -120.899342], [40.73752, -73.84496999999998], [26.591593, -81.86898599999998], [34.03451, -118.02983], [40.446928, -80.16583], [34.93723, -80.97112], [32.413961, -80.688181], [45.722962, -123.199707], [32.94568, -97.31165], [33.832345000000004, -117.362272], [29.867696, -81.339478], [28.55731, -81.31089], [29.156098, -82.134349], [33.948279, -118.231748], [34.070868, -118.145405], [34.005149, -117.312305], [44.87783, -94.33431], [40.898394, -123.995354], [46.05625, -94.10445], [33.8229, -84.49195], [37.034632, -76.351176], [28.99889000000001, -81.302474], [35.343847, -119.00293], [34.192829, -117.351593], [36.755038, -80.781442], [36.068103, -92.891293], [34.017888, -117.534624], [40.76124, -74.16380600000002], [42.64806, -122.807213], [40.778965, -77.769304], [40.716437, -74.21696999999998], [33.926860999999995, -118.011971], [40.7066, -73.43034], [40.143804, -76.12315600000002], [33.924620000000004, -117.65534], [41.60843, -72.27516], [25.876543, -80.208787], [33.948761, -80.99616800000003], [39.552471, -121.764566], [33.52428, -117.164383], [32.833102000000004, -117.233079], [33.883563, -117.532199], [35.09591, -80.99218], [45.13072, -121.59712], [38.563195, -121.471449], [45.611554, -94.163035], [32.835214, -97.19722], [34.054764, -117.299217], [45.57434, -122.67857], [38.644913, -121.383079], [38.416805, -121.859675], [33.969206, -118.34397], [40.34591, -74.48057], [30.410596, -91.14703], [25.677684, -80.367924], [39.025307, -77.391645], [39.709623, -84.210988], [40.69462, -75.23219], [41.293841, -72.901078], [39.56504, -105.03826], [38.8475, -120.02814], [33.853221999999995, -117.811514], [37.887704, -122.309224], [35.17434, -111.66176000000002], [37.019703, -76.382773], [25.502515, -80.436913], [43.637942, -95.629044], [30.284388, -97.752672], [37.746532, -118.979755], [41.12281, -73.33593], [35.550849, -82.60906700000002], [33.437453999999995, -112.220991], [38.811261, -121.021662], [43.43791, -83.979226], [33.67283, -111.98384], [39.78139, -105.13389], [34.446591, -119.714874], [34.02353, -117.81146], [45.918549, -94.345172], [39.328123, -120.189828], [32.682641, -97.397049], [40.356688, -75.974011], [33.467069, -112.427119], [35.162882, -80.876029], [39.3996, -76.40205], [32.779651, -96.796706], [37.73007, -122.43918], [34.081485, -117.728209], [29.963388, -90.129553], [42.68813, -73.8125], [43.253314, -77.71855], [42.189451, -121.81233], [43.1551, -77.62935999999998], [30.392422, -91.161139], [38.292815, -122.424844], [39.05629, -76.839828], [33.491271999999995, -80.489211], [33.682623, -78.99988499999998], [38.004552, -122.708498], [25.688424, -80.30881600000002], [34.703287, -82.90564], [39.69716, -75.61551999999998], [42.08726, -71.42466999999998], [34.039001, -118.284052], [38.756721, -122.607475], [42.685886, -108.177341], [35.082744, -78.786553], [48.279528000000006, -114.276304], [31.911691, -82.04575600000003], [29.766629, -82.50544599999998], [38.155585, -105.480118], [28.374949, -81.365185], [42.121467, -121.944539], [39.331229, -122.034888], [44.02139, -121.31892], [25.762108, -80.334096], [34.037033, -118.16186299999998], [37.62863, -122.12009], [29.938464, -90.089231], [35.309456, -120.736812], [35.404948, -119.022566], [44.478417, -119.032026], [41.314419, -73.864613], [35.315289, -80.756374], [27.11062, -82.34306], [41.255788, -72.99600699999998], [33.789485, -117.88722], [38.774393, -77.2065], [41.45211, -81.65697], [30.465911, -91.133134], [38.794966, -77.567414], [40.58767, -111.93869], [36.80216, -119.73949], [40.808726, -111.412707], [35.868834, -78.72103800000002], [34.029203, -118.012453], [34.143763, -118.257884], [34.794963, -118.852432], [40.515292, -78.365596], [40.89394, -73.86263000000002], [41.43212, -73.248322], [40.60873400000001, -111.905368], [34.058464, -117.545603], [37.847173, -122.298351], [25.62122, -80.37866], [34.674341, -81.155388], [38.879145, -76.997112], [40.379347, -77.00876600000002], [27.381609, -82.447189], [33.638887, -117.589867], [38.789405, -77.064066], [35.11195, -89.869912], [34.248691, -117.193102], [37.479941, -121.934361], [45.538136, -122.682873], [45.03905, -122.96241100000002], [44.680784, -118.195112], [30.244492, -81.589375], [40.825727, -73.93109], [34.488808, -118.621221], [34.021482, -117.550095], [25.765334, -80.263401], [28.451938, -81.400468], [45.528397, -122.653571], [42.429853, -123.093577], [33.547271, -117.672775], [41.120429, -73.323317], [29.57867, -98.342735], [26.085103, -80.168299], [34.907982000000004, -82.116912], [37.954338, -121.311581], [40.867826, -77.048627], [29.453237, -98.629782], [41.83746, -87.67468000000002], [41.493312, -72.114847], [28.559608, -81.462905], [36.193953, -86.743673], [43.64827, -93.32269], [34.03017, -117.68532], [37.939778, -122.324956], [37.56188, -77.45425999999998], [42.135142, -84.995098], [34.033564, -118.118313], [33.832638, -117.932205], [44.114481, -93.878671], [28.356918, -80.792643], [37.63818300000001, -121.005445], [37.63218, -77.4502], [38.55784600000001, -121.448262], [28.450913, -81.36693100000002], [33.000722, -117.257273], [30.127263, -89.87785799999996], [41.68807, -87.60059], [43.970122, -122.940425], [33.610793, -85.789843], [32.65963, -97.32119], [33.33481, -111.8935], [33.935405, -118.280342], [30.428741, -91.061645], [30.396504, -97.734052], [39.73868, -121.822744], [40.80328, -73.502286], [33.628432000000004, -117.720406], [40.059111, -76.46292], [34.264099, -118.855101], [38.85162, -77.432524], [43.873297, -121.40072], [30.259524, -97.615058], [36.811159, -119.79053799999998], [39.613555, -119.856237], [36.98845, -120.905205], [40.507932, -111.890999], [38.94945, -94.53197], [40.753322, -74.211026], [37.631087, -77.536874], [32.601620000000004, -96.82268], [33.967983000000004, -118.371528], [45.572544, -93.598655], [39.856799, -75.36070699999998], [29.953914, -90.084924], [37.631231, -122.075778], [37.553686, -122.296253], [43.184873, -73.493262], [47.018619, -114.234219], [26.165157, -80.203202], [43.77787, -122.53059], [42.947498, -83.717547], [44.8619, -93.29853], [37.827302, -122.284558], [33.893178000000006, -118.266992], [37.890568, -121.51219], [32.722437, -96.658428], [32.908524, -80.02686], [32.243, -81.140919], [44.950979, -93.11457], [28.47627, -81.39672900000002], [30.394265, -97.732969], [33.79966, -118.11143], [30.320817, -81.709066], [30.1692, -81.53505], [38.678321, -121.274379], [32.71331, -117.13774], [47.684506, -122.323118], [33.973209999999995, -118.16805], [36.06546, -80.22955999999998], [36.924444, -121.796667], [37.46311, -122.145212], [43.598772, -116.549455], [38.61053, -121.510291], [34.781872, -81.03864399999998], [40.179137, -76.309185], [29.726062, -95.349972], [44.66473, -117.61606], [38.17433, -85.82333], [39.018974, -76.976321], [30.320194, -81.526139], [35.879086, -78.573397], [36.666301, -121.628211], [28.40749000000001, -81.40472], [35.87067800000001, -78.58850799999998], [29.59855, -98.35673], [47.026087, -122.927902], [25.899122, -80.193288], [39.6445, -105.17841], [38.581275, -121.382859], [37.55716, -92.79264], [40.435101, -79.98176600000002], [28.615823, -81.476116], [33.989533, -118.40071299999998], [32.587348, -96.321011], [33.967387, -118.236788], [41.58694000000001, -93.62898], [28.08424, -82.45470999999998], [39.25051, -77.19466], [32.326825, -86.33211800000002], [42.15297, -87.88374], [35.111515000000004, -80.897534], [38.544045, -120.36588799999998], [32.943921, -96.768989], [34.070475, -117.399045], [45.101763, -93.456412], [28.49205, -82.598773], [34.06771, -117.593258], [32.90902, -96.89202], [32.65988, -117.07056], [32.97276, -80.140855], [32.265139000000005, -111.007372], [29.795595, -95.379481], [37.54454000000001, -122.498113], [41.189721, -74.181309], [47.67714, -122.32045], [40.398641, -120.61261], [32.888182, -96.705043], [33.554265, -79.037436], [34.120348, -118.338986], [25.499489, -80.42394], [26.649495, -80.06849799999998], [40.695568, -112.04394], [38.977814, -77.019439], [33.823792, -84.136951], [38.702999, -76.966792], [33.288858000000005, -117.225056], [33.365942, -117.24983], [38.754518, -77.527908], [25.824091, -80.206629], [26.0059, -80.166895], [34.026732, -117.567448], [32.690288, -96.840327], [33.036253, -117.2854], [36.053169, -84.003149], [42.382131, -83.39615400000002], [37.660387, -122.10404], [33.931695, -117.555953], [42.813903, -73.767324], [25.747537, -80.337062], [33.163259000000004, -117.342409], [33.383874, -117.253853], [40.11212, -83.03905999999998], [40.364952, -120.442411], [40.126235, -75.131801], [26.279296, -80.12524599999998], [34.4644, -119.712737], [36.78946, -76.22357], [45.593879, -118.47867], [43.010018, -123.302424], [34.119409999999995, -117.75745], [34.35929, -118.55393], [25.751236, -80.303609], [26.934407, -82.308402], [42.922624, -122.424491], [45.773437, -123.381931], [32.27479, -110.91873], [37.951166, -122.327371], [45.44365, -95.008536], [32.834197, -96.897557], [32.78673, -79.936886], [25.899211, -80.191361], [26.633338, -81.717382], [28.201727, -82.649028], [41.268674, -73.606251], [42.664793, -71.193884], [42.26565, -83.23716999999998], [34.258128, -118.192988], [44.861634, -93.278285], [32.728864, -96.683003], [36.290509, -119.207272], [45.52501, -122.68728], [34.28315, -82.239654], [35.571531, -120.545779], [34.075602, -117.998595], [33.94039, -84.35804], [40.448505, -80.007729], [39.89642, -83.04687], [34.13558, -117.99506], [39.7749, -104.8572], [37.772709000000006, -121.97286], [35.80621, -77.85103000000002], [35.31854600000001, -119.002943], [40.80285, -72.86926], [25.92614, -80.24933], [25.88198, -80.242976], [32.874276, -117.106975], [40.494085, -79.91807], [45.151299, -122.831204], [33.469389, -117.673712], [42.24768, -87.8717], [28.035725, -82.504802], [34.077271, -117.488722], [40.725, -74.00695999999998], [32.837079, -96.99349], [47.58976, -122.3205], [39.871476, -75.102013], [43.199654, -115.797614], [35.94601, -83.996282], [34.03459, -118.43733], [25.889357, -80.209366], [34.146737, -117.251441], [33.888955, -117.069431], [39.00412, -76.86449], [36.364349, -121.233347], [43.07461, -86.16480200000002], [38.249595, -77.50886899999998], [34.14105, -118.371669], [42.49051400000001, -82.91715500000002], [45.686556, -109.424154], [41.98493, -88.08027], [35.213843, -85.13088], [43.299357, -122.898811], [34.813966, -92.352915], [40.848175, -73.936188], [39.036369, -121.077523], [33.950189, -117.385822], [38.014594, -122.249969], [30.31795, -81.679295], [32.987278, -117.255105], [46.32706, -122.910414], [38.872326, -121.295074], [26.081485, -80.140743], [45.159281, -93.390256], [28.06726, -82.73897], [42.353317, -117.840175], [38.70447, -90.27087], [35.20167, -80.76059000000002], [33.851999, -117.880285], [38.636884, -121.328107], [34.127221, -118.090688], [39.410031, -76.33912099999998], [30.302985, -89.73018], [27.338548, -82.444441], [25.459455, -80.475122], [38.918116, -77.005932], [28.493422, -81.42774], [45.347492, -118.037304], [42.721201, -73.70156999999998], [30.00294, -94.04133], [36.211149, -86.812619], [35.553497, -120.761863], [34.030246000000005, -117.673127], [34.03699, -118.164792], [33.934046, -117.40793700000002], [37.474574, -122.27028], [38.616632, -121.415344], [32.357343, -95.313584], [40.82009, -73.89026], [34.717537, -92.342201], [38.796287, -119.976181], [39.651, -105.02526], [25.953681, -80.205492], [35.228988, -79.01355], [44.852632, -93.298033], [38.213845, -81.45963499999998], [34.066721, -117.22718], [43.185905, -77.576193], [32.363376, -86.217901], [25.768632, -80.366883], [33.68779, -117.91186], [42.678518, -83.241113], [45.226126, -93.394348], [33.428940000000004, -81.89085], [30.527225, -87.275138], [37.842523, -122.258157], [25.882185, -80.204422], [33.994818, -118.176677], [36.263953, -86.72106], [37.53001, -77.32137], [35.26756, -119.252899], [30.09262, -95.43556], [27.34041400000001, -82.530941], [32.222426, -110.84108700000002], [34.557966, -118.142701], [35.304, -80.84886], [28.519295, -81.28880799999997], [40.117357, -75.348241], [36.995891, -121.923492], [30.499138, -87.080765], [39.920338, -111.812699], [25.871011, -80.345023], [41.07036, -111.26393], [47.269233, -122.147021], [25.778243, -80.336749], [43.60473, -116.275646], [43.308051, -73.526717], [40.817159, -73.933986], [33.408149, -81.016375], [40.066988, -76.315436], [37.814788, -120.656471], [41.170572, -75.425991], [37.880859, -122.050102], [37.348045, -122.059783], [44.97112, -116.2818], [36.767753000000006, -76.362415], [32.816148, -96.752887], [35.44899, -97.55462], [34.582878, -82.677406], [34.744077000000004, -92.262877], [37.552525, -77.47882800000002], [40.955108, -73.7991], [33.774429, -118.032914], [33.853767, -117.90676], [25.714607, -80.413569], [40.32724, -76.78605999999998], [46.337669, -94.645893], [33.92819, -118.29621000000002], [29.76548, -95.45602], [34.264534999999995, -118.472046], [36.083053, -86.698362], [39.90483, -86.26959000000002], [29.920448, -90.106122], [38.905068, -91.499724], [39.38711, -76.52724], [36.080318, -119.070802], [33.916428, -118.285605], [39.096132, -94.577088], [34.071661, -117.545031], [44.216388, -92.440759], [44.92886, -93.45239], [33.986670000000004, -117.906247], [45.754397, -119.153332], [34.157651, -118.453144], [43.664541, -116.4137], [40.429045, -79.956387], [38.398993, -77.560594], [28.492772, -81.39675600000002], [42.98896, -83.68245999999998], [40.999411, -73.65433399999998], [37.8745, -122.30599], [26.542843, -81.852616], [38.579722, -121.41531299999998], [36.05328400000001, -86.672923], [41.769768, -124.154902], [39.881001, -76.867971], [40.63045, -111.853688], [42.80813, -73.9495], [44.7892, -93.40637], [35.23052, -112.59068], [25.807682, -80.321454], [45.856343, -122.70455], [35.98663, -79.88211], [38.68296, -90.23569], [37.489859, -77.370039], [39.151632, -94.559847], [33.014705, -80.23884699999998], [34.15306, -118.37042], [29.264426, -82.053813], [34.06729, -117.55456], [36.96638, -76.29285], [29.48577, -95.103824], [33.94964, -117.552829], [44.648147, -93.819068], [34.028657, -118.203715], [33.385059000000005, -117.231372]],\n",
              "                {&quot;blur&quot;: 15, &quot;maxZoom&quot;: 18, &quot;minOpacity&quot;: 0.5, &quot;radius&quot;: 25}\n",
              "            ).addTo(map_5b4479180212fbf831e0aebe84060fdb);\n",
              "        \n",
              "&lt;/script&gt;\" style=\"position:absolute;width:100%;height:100%;left:0;top:0;border:none !important;\" allowfullscreen webkitallowfullscreen mozallowfullscreen></iframe></div></div>"
            ]
          },
          "metadata": {},
          "execution_count": 49
        }
      ]
    },
    {
      "cell_type": "markdown",
      "source": [
        "A lot of accidents occur in the coastal regions of the US.\n",
        "Suported by Miami being one the highest accident prone region,."
      ],
      "metadata": {
        "id": "kxLznQ56kGR4"
      }
    },
    {
      "cell_type": "markdown",
      "source": [
        "## Summary and Conclusion\n",
        "\n",
        "\n",
        "Insights:\n",
        "- No data from New York despite the City having the most population.\n",
        "- Less than 5% of cities have more than 1000 accidents\n",
        "- Over 3000 cities have reported a less than 5 accidents in 5 years.(to be investigated)\n",
        "- Number of accidents per city decreases exponentially.\n",
        "- Peak number for accidents occur both in the morning hours and evening hours for weekdays. This can be as a result of driving to and from work. Weekends however see aspike in the evening hours, probably because most people go out in the eveings on weekends."
      ],
      "metadata": {
        "id": "S-K2u9aEM6im"
      }
    },
    {
      "cell_type": "code",
      "source": [],
      "metadata": {
        "id": "UneZOaOwVY78"
      },
      "execution_count": 49,
      "outputs": []
    },
    {
      "cell_type": "code",
      "source": [
        "jovian.commit(project=\"us-accidents\")"
      ],
      "metadata": {
        "colab": {
          "base_uri": "https://localhost:8080/",
          "height": 140
        },
        "id": "8GMq3sFzTam_",
        "outputId": "a4a104ba-fe39-45bd-90e8-4bd60e3bd6a3"
      },
      "execution_count": 53,
      "outputs": [
        {
          "output_type": "stream",
          "name": "stdout",
          "text": [
            "[jovian] Detected Colab notebook...\u001b[0m\n",
            "[jovian] Please enter your API key ( from https://jovian.ai/ ):\u001b[0m\n",
            "API KEY: ··········\n",
            "[jovian] Uploading colab notebook to Jovian...\u001b[0m\n"
          ]
        },
        {
          "output_type": "stream",
          "name": "stderr",
          "text": [
            "\u001b[31m[jovian] Error: Looks like the notebook is missing output cells, please save the notebook and try jovian.commit again.\u001b[0m\n"
          ]
        },
        {
          "output_type": "stream",
          "name": "stdout",
          "text": [
            "Committed successfully! https://jovian.ai/bonfacegabriel44/us-accidents\n"
          ]
        },
        {
          "output_type": "execute_result",
          "data": {
            "text/plain": [
              "'https://jovian.ai/bonfacegabriel44/us-accidents'"
            ],
            "application/vnd.google.colaboratory.intrinsic+json": {
              "type": "string"
            }
          },
          "metadata": {},
          "execution_count": 53
        }
      ]
    },
    {
      "cell_type": "code",
      "source": [],
      "metadata": {
        "id": "z4qjz7nULTwJ"
      },
      "execution_count": 50,
      "outputs": []
    },
    {
      "cell_type": "code",
      "source": [],
      "metadata": {
        "id": "Q5eLERJMLo5f"
      },
      "execution_count": 50,
      "outputs": []
    },
    {
      "cell_type": "code",
      "source": [],
      "metadata": {
        "id": "8Y9esX2s2vb7"
      },
      "execution_count": 50,
      "outputs": []
    },
    {
      "cell_type": "code",
      "source": [],
      "metadata": {
        "id": "VFcLavbmvDkK"
      },
      "execution_count": 50,
      "outputs": []
    },
    {
      "cell_type": "code",
      "source": [],
      "metadata": {
        "id": "_YYKbQgGrSPQ"
      },
      "execution_count": 50,
      "outputs": []
    },
    {
      "cell_type": "code",
      "source": [],
      "metadata": {
        "id": "e-m7DvXprSMb"
      },
      "execution_count": 50,
      "outputs": []
    },
    {
      "cell_type": "code",
      "source": [],
      "metadata": {
        "id": "8SpVDs3JrSKG"
      },
      "execution_count": 50,
      "outputs": []
    },
    {
      "cell_type": "code",
      "source": [],
      "metadata": {
        "id": "lyZ2raDbrSG5"
      },
      "execution_count": 50,
      "outputs": []
    },
    {
      "cell_type": "code",
      "source": [],
      "metadata": {
        "id": "JXnPUw-zrSES"
      },
      "execution_count": 50,
      "outputs": []
    },
    {
      "cell_type": "code",
      "source": [],
      "metadata": {
        "id": "yMbG11WVrSBR"
      },
      "execution_count": 50,
      "outputs": []
    },
    {
      "cell_type": "code",
      "source": [],
      "metadata": {
        "id": "g6T6pEfQrR-d"
      },
      "execution_count": 50,
      "outputs": []
    },
    {
      "cell_type": "code",
      "source": [],
      "metadata": {
        "id": "kzWaM9OIrR79"
      },
      "execution_count": 50,
      "outputs": []
    },
    {
      "cell_type": "code",
      "source": [],
      "metadata": {
        "id": "7DD1wuzTrR48"
      },
      "execution_count": 50,
      "outputs": []
    },
    {
      "cell_type": "code",
      "source": [],
      "metadata": {
        "id": "HhgLBtGErR2g"
      },
      "execution_count": 50,
      "outputs": []
    },
    {
      "cell_type": "code",
      "source": [],
      "metadata": {
        "id": "MX3sF6_YrRz5"
      },
      "execution_count": 50,
      "outputs": []
    },
    {
      "cell_type": "code",
      "source": [],
      "metadata": {
        "id": "4I8BSlKerRxy"
      },
      "execution_count": 50,
      "outputs": []
    },
    {
      "cell_type": "code",
      "source": [],
      "metadata": {
        "id": "jusb-4hWrRu1"
      },
      "execution_count": 50,
      "outputs": []
    },
    {
      "cell_type": "code",
      "source": [],
      "metadata": {
        "id": "9m2keQi5rRsK"
      },
      "execution_count": 50,
      "outputs": []
    },
    {
      "cell_type": "code",
      "source": [],
      "metadata": {
        "id": "zYx9iNe-rRmp"
      },
      "execution_count": 50,
      "outputs": []
    },
    {
      "cell_type": "code",
      "execution_count": 50,
      "metadata": {
        "id": "Zx289A4Dohak"
      },
      "outputs": [],
      "source": []
    }
  ],
  "metadata": {
    "kernelspec": {
      "display_name": "Python 3",
      "language": "python",
      "name": "python3"
    },
    "language_info": {
      "codemirror_mode": {
        "name": "ipython",
        "version": 3
      },
      "file_extension": ".py",
      "mimetype": "text/x-python",
      "name": "python",
      "nbconvert_exporter": "python",
      "pygments_lexer": "ipython3",
      "version": "3.7.6"
    },
    "colab": {
      "provenance": []
    }
  },
  "nbformat": 4,
  "nbformat_minor": 0
}